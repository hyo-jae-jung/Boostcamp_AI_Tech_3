{
 "cells": [
  {
   "cell_type": "markdown",
   "metadata": {
    "id": "Xabfbo4nb7uG"
   },
   "source": [
    "# 0. PyTorch"
   ]
  },
  {
   "cell_type": "code",
   "execution_count": 1,
   "metadata": {
    "executionInfo": {
     "elapsed": 6022,
     "status": "ok",
     "timestamp": 1644444239978,
     "user": {
      "displayName": "JangJak",
      "photoUrl": "https://lh3.googleusercontent.com/a/default-user=s64",
      "userId": "12909526806553821422"
     },
     "user_tz": -540
    },
    "id": "khNSAIoKznlV"
   },
   "outputs": [],
   "source": [
    "import numpy as np\n",
    "import matplotlib.pyplot as plt\n",
    "import torch\n",
    "import torch.nn as nn\n",
    "import torch.optim as optim\n",
    "import torch.nn.functional as F\n",
    "\n",
    "device = torch.device('cuda:0' if torch.cuda.is_available() else 'cpu')"
   ]
  },
  {
   "cell_type": "code",
   "execution_count": 2,
   "metadata": {
    "colab": {
     "base_uri": "https://localhost:8080/"
    },
    "executionInfo": {
     "elapsed": 4,
     "status": "ok",
     "timestamp": 1644444239979,
     "user": {
      "displayName": "JangJak",
      "photoUrl": "https://lh3.googleusercontent.com/a/default-user=s64",
      "userId": "12909526806553821422"
     },
     "user_tz": -540
    },
    "id": "MbtDMbqE0LaK",
    "outputId": "34b7c800-7f10-4991-8528-55c37967cdb8"
   },
   "outputs": [
    {
     "name": "stdout",
     "output_type": "stream",
     "text": [
      "cuda:0\n"
     ]
    }
   ],
   "source": [
    "print(device)"
   ]
  },
  {
   "cell_type": "markdown",
   "metadata": {
    "id": "ADGhRxHuVLPk"
   },
   "source": [
    "# 1. Data"
   ]
  },
  {
   "cell_type": "code",
   "execution_count": 3,
   "metadata": {
    "colab": {
     "base_uri": "https://localhost:8080/"
    },
    "executionInfo": {
     "elapsed": 6433,
     "status": "ok",
     "timestamp": 1644444246410,
     "user": {
      "displayName": "JangJak",
      "photoUrl": "https://lh3.googleusercontent.com/a/default-user=s64",
      "userId": "12909526806553821422"
     },
     "user_tz": -540
    },
    "id": "jNtpD0cL0bgU",
    "outputId": "afa24e0c-ea87-4286-cad1-f3fc97c0f951"
   },
   "outputs": [
    {
     "name": "stdout",
     "output_type": "stream",
     "text": [
      "Dataset MNIST\n",
      "    Number of datapoints: 60000\n",
      "    Root location: drive/MyDrive/Practise Notebook/data/\n",
      "    Split: Train\n",
      "    StandardTransform\n",
      "Transform: ToTensor()\n",
      "Dataset MNIST\n",
      "    Number of datapoints: 10000\n",
      "    Root location: drive/MyDrive/Practise Notebook/data/\n",
      "    Split: Test\n",
      "    StandardTransform\n",
      "Transform: ToTensor()\n"
     ]
    }
   ],
   "source": [
    "from torchvision import datasets, transforms\n",
    "\n",
    "PATH = 'drive/MyDrive/Practise Notebook/data/'\n",
    "\n",
    "mnist_train = datasets.MNIST(root=PATH ,train=True,transform=transforms.ToTensor(), download=True)\n",
    "mnist_test = datasets.MNIST(root=PATH ,train=False,transform=transforms.ToTensor(), download=True)\n",
    "print(mnist_train)\n",
    "print(mnist_test)"
   ]
  },
  {
   "cell_type": "code",
   "execution_count": 5,
   "metadata": {
    "colab": {
     "base_uri": "https://localhost:8080/"
    },
    "executionInfo": {
     "elapsed": 17,
     "status": "ok",
     "timestamp": 1644444246410,
     "user": {
      "displayName": "JangJak",
      "photoUrl": "https://lh3.googleusercontent.com/a/default-user=s64",
      "userId": "12909526806553821422"
     },
     "user_tz": -540
    },
    "id": "u4De6vIh62kO",
    "outputId": "4c1c1bfa-7b8f-4cb8-cea8-2784c888391d"
   },
   "outputs": [
    {
     "name": "stdout",
     "output_type": "stream",
     "text": [
      "torch.Size([60000, 28, 28])\n",
      "torch.Size([60000])\n",
      "['0 - zero', '1 - one', '2 - two', '3 - three', '4 - four', '5 - five', '6 - six', '7 - seven', '8 - eight', '9 - nine']\n"
     ]
    }
   ],
   "source": [
    "print(mnist_train.data.shape)\n",
    "print(mnist_train.targets.shape)\n",
    "print(mnist_train.classes)"
   ]
  },
  {
   "cell_type": "code",
   "execution_count": 6,
   "metadata": {
    "executionInfo": {
     "elapsed": 16,
     "status": "ok",
     "timestamp": 1644444246411,
     "user": {
      "displayName": "JangJak",
      "photoUrl": "https://lh3.googleusercontent.com/a/default-user=s64",
      "userId": "12909526806553821422"
     },
     "user_tz": -540
    },
    "id": "CXlYec0a19hi"
   },
   "outputs": [],
   "source": [
    "BATCH_SIZE = 256\n",
    "train_iter = torch.utils.data.DataLoader(mnist_train,batch_size=BATCH_SIZE,shuffle=True,num_workers=1)\n",
    "test_iter = torch.utils.data.DataLoader(mnist_test,batch_size=BATCH_SIZE,shuffle=True,num_workers=1)"
   ]
  },
  {
   "cell_type": "code",
   "execution_count": 8,
   "metadata": {
    "executionInfo": {
     "elapsed": 15,
     "status": "ok",
     "timestamp": 1644444246411,
     "user": {
      "displayName": "JangJak",
      "photoUrl": "https://lh3.googleusercontent.com/a/default-user=s64",
      "userId": "12909526806553821422"
     },
     "user_tz": -540
    },
    "id": "Gd9z8kZA9SqG"
   },
   "outputs": [],
   "source": [
    "data,targets = next(iter(train_iter))"
   ]
  },
  {
   "cell_type": "code",
   "execution_count": 9,
   "metadata": {
    "colab": {
     "base_uri": "https://localhost:8080/"
    },
    "executionInfo": {
     "elapsed": 16,
     "status": "ok",
     "timestamp": 1644444246412,
     "user": {
      "displayName": "JangJak",
      "photoUrl": "https://lh3.googleusercontent.com/a/default-user=s64",
      "userId": "12909526806553821422"
     },
     "user_tz": -540
    },
    "id": "ZfHRQs3RBP_k",
    "outputId": "be5b7cf9-c2d1-4834-ea80-1bb3d9088b9b"
   },
   "outputs": [
    {
     "data": {
      "text/plain": [
       "torch.Size([256, 1, 28, 28])"
      ]
     },
     "execution_count": 9,
     "metadata": {},
     "output_type": "execute_result"
    }
   ],
   "source": [
    "data.shape"
   ]
  },
  {
   "cell_type": "code",
   "execution_count": 10,
   "metadata": {
    "colab": {
     "base_uri": "https://localhost:8080/"
    },
    "executionInfo": {
     "elapsed": 14,
     "status": "ok",
     "timestamp": 1644444246412,
     "user": {
      "displayName": "JangJak",
      "photoUrl": "https://lh3.googleusercontent.com/a/default-user=s64",
      "userId": "12909526806553821422"
     },
     "user_tz": -540
    },
    "id": "gP0pVfWqBddD",
    "outputId": "9ac9684f-4e54-44b1-ff2d-1d41c4e012ac"
   },
   "outputs": [
    {
     "data": {
      "text/plain": [
       "torch.Size([256])"
      ]
     },
     "execution_count": 10,
     "metadata": {},
     "output_type": "execute_result"
    }
   ],
   "source": [
    "targets.shape"
   ]
  },
  {
   "cell_type": "markdown",
   "metadata": {
    "id": "BeTQEi_fVTdR"
   },
   "source": [
    "# 2. Model"
   ]
  },
  {
   "cell_type": "code",
   "execution_count": 25,
   "metadata": {
    "executionInfo": {
     "elapsed": 5,
     "status": "ok",
     "timestamp": 1644444838266,
     "user": {
      "displayName": "JangJak",
      "photoUrl": "https://lh3.googleusercontent.com/a/default-user=s64",
      "userId": "12909526806553821422"
     },
     "user_tz": -540
    },
    "id": "ko-w2004CEJX"
   },
   "outputs": [],
   "source": [
    "class mlpModule(nn.Module):\n",
    "\n",
    "  def __init__(self,xdim=28*28,hdim=256,ydim=10):\n",
    "    super(mlpModule,self).__init__()\n",
    "    self.xdim=xdim\n",
    "    self.hdim=hdim\n",
    "    self.ydim=ydim\n",
    "    self.lin_1 = nn.Linear(\n",
    "        in_features=self.xdim,\n",
    "        out_features=self.hdim,\n",
    "        bias=True\n",
    "        )\n",
    "    self.lin_2 = nn.Linear(\n",
    "        in_features=self.hdim,\n",
    "        out_features=self.ydim,\n",
    "        bias=True\n",
    "        )\n",
    "\n",
    "  def forward(self,x):\n",
    "      x = self.lin_1(x)\n",
    "      x = F.relu(x)\n",
    "      x = self.lin_2(x)\n",
    "      return x\n",
    "\n",
    "M = mlpModule(xdim=28*28,hdim=256,ydim=10).to(device)\n",
    "loss = nn.CrossEntropyLoss()\n",
    "optm = optim.Adam(M.parameters(),lr=1e-3)"
   ]
  },
  {
   "cell_type": "code",
   "execution_count": 29,
   "metadata": {
    "colab": {
     "base_uri": "https://localhost:8080/"
    },
    "executionInfo": {
     "elapsed": 5,
     "status": "ok",
     "timestamp": 1644444900456,
     "user": {
      "displayName": "JangJak",
      "photoUrl": "https://lh3.googleusercontent.com/a/default-user=s64",
      "userId": "12909526806553821422"
     },
     "user_tz": -540
    },
    "id": "6aACLUCfcYG9",
    "outputId": "9ec8a353-1644-4e83-b536-cf801cf65417"
   },
   "outputs": [
    {
     "name": "stdout",
     "output_type": "stream",
     "text": [
      "torch.Size([3, 784]) torch.Size([3, 10])\n"
     ]
    }
   ],
   "source": [
    "x_torch = torch.randn(3,784).to(device)\n",
    "y_torch = M.forward(x_torch)\n",
    "print(x_torch.shape,y_torch.shape)"
   ]
  },
  {
   "cell_type": "code",
   "execution_count": 70,
   "metadata": {
    "colab": {
     "base_uri": "https://localhost:8080/"
    },
    "executionInfo": {
     "elapsed": 2,
     "status": "ok",
     "timestamp": 1644450973749,
     "user": {
      "displayName": "JangJak",
      "photoUrl": "https://lh3.googleusercontent.com/a/default-user=s64",
      "userId": "12909526806553821422"
     },
     "user_tz": -540
    },
    "id": "3QNi8OOoj-o2",
    "outputId": "c325a6b5-3ea7-4016-f572-795d8fdb68d5"
   },
   "outputs": [
    {
     "name": "stdout",
     "output_type": "stream",
     "text": [
      "lin_1.weight : torch.Size([256, 784])\n",
      "lin_1.bias : torch.Size([256])\n",
      "lin_2.weight : torch.Size([10, 256])\n",
      "lin_2.bias : torch.Size([10])\n",
      "Total number of parameters : 203,530\n"
     ]
    }
   ],
   "source": [
    "parameter_count = 0\n",
    "for n,w in M.named_parameters():\n",
    "  print(\"{} : {}\".format(n,w.shape))\n",
    "  parameter_count += len(w.view(-1))\n",
    "\n",
    "print(f\"Total number of parameters : {parameter_count:,d}\")"
   ]
  },
  {
   "cell_type": "markdown",
   "metadata": {
    "id": "IVoMPQ8AVbBt"
   },
   "source": [
    "# 3. Evaluation"
   ]
  },
  {
   "cell_type": "markdown",
   "metadata": {
    "id": "2LFYsUGj6Ad4"
   },
   "source": [
    "eval(), no_grad()  \n",
    "https://stackoverflow.com/questions/60018578/what-does-model-eval-do-in-pytorch/60018731#60018731"
   ]
  },
  {
   "cell_type": "code",
   "execution_count": 72,
   "metadata": {
    "executionInfo": {
     "elapsed": 398,
     "status": "ok",
     "timestamp": 1644456462707,
     "user": {
      "displayName": "JangJak",
      "photoUrl": "https://lh3.googleusercontent.com/a/default-user=s64",
      "userId": "12909526806553821422"
     },
     "user_tz": -540
    },
    "id": "Ai66qIsE6EWL"
   },
   "outputs": [],
   "source": [
    "train_in,train_out = next(iter(train_iter))"
   ]
  },
  {
   "cell_type": "code",
   "execution_count": 87,
   "metadata": {
    "colab": {
     "base_uri": "https://localhost:8080/"
    },
    "executionInfo": {
     "elapsed": 408,
     "status": "ok",
     "timestamp": 1644458244721,
     "user": {
      "displayName": "JangJak",
      "photoUrl": "https://lh3.googleusercontent.com/a/default-user=s64",
      "userId": "12909526806553821422"
     },
     "user_tz": -540
    },
    "id": "0no5bZ4DT1NS",
    "outputId": "28716181-21f1-4fdc-983c-a1a1ad01bb01"
   },
   "outputs": [
    {
     "data": {
      "text/plain": [
       "tensor([ 0.0089, -0.0577,  0.1170,  0.0226, -0.0822, -0.2093,  0.0485,  0.0535,\n",
       "        -0.0032,  0.0866], device='cuda:0')"
      ]
     },
     "execution_count": 87,
     "metadata": {},
     "output_type": "execute_result"
    }
   ],
   "source": [
    "M(train_in.view(-1,28*28)[0].to(device)).data"
   ]
  },
  {
   "cell_type": "code",
   "execution_count": 88,
   "metadata": {
    "colab": {
     "base_uri": "https://localhost:8080/"
    },
    "executionInfo": {
     "elapsed": 8,
     "status": "ok",
     "timestamp": 1644458249032,
     "user": {
      "displayName": "JangJak",
      "photoUrl": "https://lh3.googleusercontent.com/a/default-user=s64",
      "userId": "12909526806553821422"
     },
     "user_tz": -540
    },
    "id": "MdwxmZ3-UH5p",
    "outputId": "e9510634-9c8b-49da-d2b5-1392881d3f84"
   },
   "outputs": [
    {
     "data": {
      "text/plain": [
       "tensor([ 0.0089, -0.0577,  0.1170,  0.0226, -0.0822, -0.2093,  0.0485,  0.0535,\n",
       "        -0.0032,  0.0866], device='cuda:0')"
      ]
     },
     "execution_count": 88,
     "metadata": {},
     "output_type": "execute_result"
    }
   ],
   "source": [
    "M.forward(train_in.view(-1,28*28)[0].to(device)).data"
   ]
  },
  {
   "cell_type": "markdown",
   "metadata": {
    "id": "Cwn1hugtUtr7"
   },
   "source": [
    "모듈에 데이터를 넣거나 forward method에 넣거나 똑같다."
   ]
  },
  {
   "cell_type": "code",
   "execution_count": 89,
   "metadata": {
    "executionInfo": {
     "elapsed": 420,
     "status": "ok",
     "timestamp": 1644458365416,
     "user": {
      "displayName": "JangJak",
      "photoUrl": "https://lh3.googleusercontent.com/a/default-user=s64",
      "userId": "12909526806553821422"
     },
     "user_tz": -540
    },
    "id": "ni6us_7-UzE_"
   },
   "outputs": [],
   "source": [
    "def func_eval(model, data_iter, device):\n",
    "    with torch.no_grad():\n",
    "      model.eval()\n",
    "      n_total, n_correct = 0,0\n",
    "      for batch_in, batch_out in data_iter:\n",
    "        y_target = batch_out.to(device)\n",
    "        model_pred = model(batch_in.view(-1,28*28).to(device))\n",
    "        _,y_pred = torch.max(model_pred.data,1)\n",
    "        n_correct += (y_target==y_pred).sum().item()\n",
    "        n_total += batch_in.size(0)\n",
    "      accr = n_correct/n_total\n",
    "      model.train()\n",
    "    return accr"
   ]
  },
  {
   "cell_type": "code",
   "execution_count": 91,
   "metadata": {
    "colab": {
     "base_uri": "https://localhost:8080/"
    },
    "executionInfo": {
     "elapsed": 6133,
     "status": "ok",
     "timestamp": 1644458456320,
     "user": {
      "displayName": "JangJak",
      "photoUrl": "https://lh3.googleusercontent.com/a/default-user=s64",
      "userId": "12909526806553821422"
     },
     "user_tz": -540
    },
    "id": "qwnVJ7HXW26U",
    "outputId": "13ba0900-972d-4452-8285-b18d90bd7e07"
   },
   "outputs": [
    {
     "name": "stdout",
     "output_type": "stream",
     "text": [
      "train_accr : 0.08815\n",
      "test_accr : 0.0882\n"
     ]
    }
   ],
   "source": [
    "train_accr = func_eval(M,train_iter,device)\n",
    "test_accr = func_eval(M,test_iter,device)\n",
    "print(f\"train_accr : {train_accr}\\ntest_accr : {test_accr}\")"
   ]
  },
  {
   "cell_type": "markdown",
   "metadata": {
    "id": "LqwhGAahXM7A"
   },
   "source": [
    "# 4. Train"
   ]
  },
  {
   "cell_type": "code",
   "execution_count": 106,
   "metadata": {
    "colab": {
     "base_uri": "https://localhost:8080/"
    },
    "executionInfo": {
     "elapsed": 105620,
     "status": "ok",
     "timestamp": 1644461569252,
     "user": {
      "displayName": "JangJak",
      "photoUrl": "https://lh3.googleusercontent.com/a/default-user=s64",
      "userId": "12909526806553821422"
     },
     "user_tz": -540
    },
    "id": "CIgOWTh0XQBX",
    "outputId": "f55eeb90-0eb6-4323-9309-9d48cdda3c87"
   },
   "outputs": [
    {
     "name": "stdout",
     "output_type": "stream",
     "text": [
      "epoch : 0, loss_avg : 0.003, train_accr : 1.000, test_accr : 0.982\n",
      "epoch : 1, loss_avg : 0.002, train_accr : 1.000, test_accr : 0.979\n",
      "epoch : 2, loss_avg : 0.003, train_accr : 1.000, test_accr : 0.982\n",
      "epoch : 3, loss_avg : 0.002, train_accr : 1.000, test_accr : 0.979\n",
      "epoch : 4, loss_avg : 0.003, train_accr : 0.999, test_accr : 0.979\n",
      "epoch : 5, loss_avg : 0.006, train_accr : 0.999, test_accr : 0.979\n",
      "epoch : 6, loss_avg : 0.003, train_accr : 1.000, test_accr : 0.981\n",
      "epoch : 7, loss_avg : 0.001, train_accr : 1.000, test_accr : 0.981\n",
      "epoch : 8, loss_avg : 0.001, train_accr : 1.000, test_accr : 0.981\n",
      "epoch : 9, loss_avg : 0.001, train_accr : 1.000, test_accr : 0.981\n"
     ]
    }
   ],
   "source": [
    "M.train()\n",
    "EPOCHS = 10\n",
    "for epoch in range(EPOCHS):\n",
    "    loss_sum = 0\n",
    "    for batch_in, batch_out in train_iter:\n",
    "        y_pred = M.forward(batch_in.view(-1,28*28).to(device))\n",
    "        loss_out = loss(y_pred,batch_out.to(device))\n",
    "        optm.zero_grad()\n",
    "        loss_out.backward()\n",
    "        optm.step()\n",
    "        loss_sum += loss_out\n",
    "    loss_avg = loss_sum/len(train_iter)\n",
    "    train_accr = func_eval(M,train_iter,device)\n",
    "    test_accr = func_eval(M,test_iter,device)\n",
    "    print(\"epoch : {:d}, loss_avg : {:.3f}, train_accr : {:.3f}, test_accr : {:.3f}\".format(epoch,loss_avg,train_accr,test_accr))\n",
    "\n"
   ]
  },
  {
   "cell_type": "markdown",
   "metadata": {
    "id": "9RwX8LWXdyHs"
   },
   "source": [
    "# 5. Test"
   ]
  },
  {
   "cell_type": "code",
   "execution_count": 100,
   "metadata": {
    "executionInfo": {
     "elapsed": 508,
     "status": "ok",
     "timestamp": 1644460688351,
     "user": {
      "displayName": "JangJak",
      "photoUrl": "https://lh3.googleusercontent.com/a/default-user=s64",
      "userId": "12909526806553821422"
     },
     "user_tz": -540
    },
    "id": "HJGqvggZd0XK"
   },
   "outputs": [],
   "source": [
    "import numpy as np\n",
    "import matplotlib.pyplot as plt"
   ]
  },
  {
   "cell_type": "code",
   "execution_count": 105,
   "metadata": {
    "colab": {
     "base_uri": "https://localhost:8080/",
     "height": 664
    },
    "executionInfo": {
     "elapsed": 1279,
     "status": "ok",
     "timestamp": 1644461344128,
     "user": {
      "displayName": "JangJak",
      "photoUrl": "https://lh3.googleusercontent.com/a/default-user=s64",
      "userId": "12909526806553821422"
     },
     "user_tz": -540
    },
    "id": "cwEtruLSfjYZ",
    "outputId": "9cb0963c-7ea7-4fd7-d152-9def1a7f7759"
   },
   "outputs": [
    {
     "name": "stdout",
     "output_type": "stream",
     "text": [
      "tensor([6, 3, 7, 7, 8, 0, 1, 7, 4, 1, 4, 7, 0, 8, 6, 7, 2, 3, 7, 7, 6, 2, 6, 4,\n",
      "        1])\n",
      "tensor([6, 3, 7, 7, 8, 0, 1, 7, 4, 1, 4, 7, 0, 8, 6, 7, 2, 3, 7, 7, 6, 2, 6, 4,\n",
      "        1], device='cuda:0')\n"
     ]
    },
    {
     "data": {
      "image/png": "[encoded data removed]",
      "text/plain": [
       "<Figure size 720x720 with 25 Axes>"
      ]
     },
     "metadata": {
      "needs_background": "light"
     },
     "output_type": "display_data"
    }
   ],
   "source": [
    "n_sample = 25\n",
    "sample_indices = np.random.choice(len(mnist_test.targets), n_sample, replace=False)\n",
    "test_x = mnist_test.data[sample_indices]\n",
    "test_y = mnist_test.targets[sample_indices]\n",
    "with torch.no_grad():\n",
    "  y_pred = M.forward(test_x.view(-1,28*28).type(torch.float).to(device))\n",
    "  y_pred = y_pred.argmax(1)\n",
    "print(test_y)\n",
    "print(y_pred)\n",
    "\n",
    "plt.figure(figsize=(10,10))\n",
    "for idx in range(n_sample):\n",
    "  plt.subplot(5,5,idx+1)\n",
    "  plt.imshow(test_x[idx], cmap='gray')\n",
    "  plt.axis('off')\n",
    "  plt.title(\"Pred:{}, Label:{}\".format(y_pred[idx],test_y[idx]))\n",
    "plt.show()"
   ]
  }
 ],
 "metadata": {
  "accelerator": "GPU",
  "colab": {
   "authorship_tag": "ABX9TyOXTVaxQNZnkIUD538132u8",
   "collapsed_sections": [],
   "mount_file_id": "17SGny_k1ZbZ-Q5hdaB9B5VMI46faZuF5",
   "name": "MNIST(MLP).ipynb",
   "provenance": []
  },
  "kernelspec": {
   "display_name": "Python 3 (ipykernel)",
   "language": "python",
   "name": "python3"
  },
  "language_info": {
   "codemirror_mode": {
    "name": "ipython",
    "version": 3
   },
   "file_extension": ".py",
   "mimetype": "text/x-python",
   "name": "python",
   "nbconvert_exporter": "python",
   "pygments_lexer": "ipython3",
   "version": "3.8.10"
  }
 },
 "nbformat": 4,
 "nbformat_minor": 1
}

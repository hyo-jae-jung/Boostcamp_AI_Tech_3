{
 "cells": [
  {
   "cell_type": "code",
   "execution_count": 83,
   "id": "b175ae74",
   "metadata": {},
   "outputs": [],
   "source": [
    "import torch\n",
    "from torch import linalg as LA"
   ]
  },
  {
   "cell_type": "code",
   "execution_count": 16,
   "id": "57b3a53e",
   "metadata": {
    "scrolled": false
   },
   "outputs": [
    {
     "data": {
      "text/plain": [
       "tensor(2.8284)"
      ]
     },
     "execution_count": 16,
     "metadata": {},
     "output_type": "execute_result"
    }
   ],
   "source": [
    "a = torch.FloatTensor([[2,0],[0,2]])\n",
    "LA.norm(a)"
   ]
  },
  {
   "cell_type": "code",
   "execution_count": 22,
   "id": "73c499d6",
   "metadata": {},
   "outputs": [
    {
     "ename": "TypeError",
     "evalue": "tensor() missing 1 required positional arguments: \"data\"",
     "output_type": "error",
     "traceback": [
      "\u001b[0;31m---------------------------------------------------------------------------\u001b[0m",
      "\u001b[0;31mTypeError\u001b[0m                                 Traceback (most recent call last)",
      "Input \u001b[0;32mIn [22]\u001b[0m, in \u001b[0;36m<module>\u001b[0;34m\u001b[0m\n\u001b[0;32m----> 1\u001b[0m \u001b[43mtorch\u001b[49m\u001b[38;5;241;43m.\u001b[39;49m\u001b[43mtensor\u001b[49m\u001b[43m(\u001b[49m\u001b[43m)\u001b[49m\n",
      "\u001b[0;31mTypeError\u001b[0m: tensor() missing 1 required positional arguments: \"data\""
     ]
    }
   ],
   "source": [
    "torch.tensor()"
   ]
  },
  {
   "cell_type": "code",
   "execution_count": 19,
   "id": "ab9e1fe2",
   "metadata": {},
   "outputs": [
    {
     "data": {
      "text/plain": [
       "tensor([])"
      ]
     },
     "execution_count": 19,
     "metadata": {},
     "output_type": "execute_result"
    }
   ],
   "source": [
    "torch.Tensor()"
   ]
  },
  {
   "cell_type": "code",
   "execution_count": 24,
   "id": "3c78c905",
   "metadata": {
    "scrolled": true
   },
   "outputs": [
    {
     "data": {
      "text/plain": [
       "tensor(8)"
      ]
     },
     "execution_count": 24,
     "metadata": {},
     "output_type": "execute_result"
    }
   ],
   "source": [
    "torch.mul(4,2)"
   ]
  },
  {
   "cell_type": "code",
   "execution_count": 25,
   "id": "33d34075",
   "metadata": {},
   "outputs": [
    {
     "data": {
      "text/plain": [
       "tensor(2.)"
      ]
     },
     "execution_count": 25,
     "metadata": {},
     "output_type": "execute_result"
    }
   ],
   "source": [
    "torch.div(4,2)"
   ]
  },
  {
   "cell_type": "code",
   "execution_count": 50,
   "id": "5f0f8185",
   "metadata": {
    "scrolled": true
   },
   "outputs": [
    {
     "data": {
      "text/plain": [
       "tensor(5.5000)"
      ]
     },
     "execution_count": 50,
     "metadata": {},
     "output_type": "execute_result"
    }
   ],
   "source": [
    "torch.dist(torch.tensor([6]),torch.tensor([0.5]))"
   ]
  },
  {
   "cell_type": "code",
   "execution_count": 42,
   "id": "8cb2c807",
   "metadata": {
    "scrolled": true
   },
   "outputs": [
    {
     "name": "stdout",
     "output_type": "stream",
     "text": [
      "tensor([1]) <class 'torch.Tensor'>\n"
     ]
    }
   ],
   "source": [
    "print(torch.tensor([1]),type(torch.tensor([1])))"
   ]
  },
  {
   "cell_type": "code",
   "execution_count": 211,
   "id": "df679c0c",
   "metadata": {
    "scrolled": false
   },
   "outputs": [
    {
     "data": {
      "text/plain": [
       "tensor([[1., 2.],\n",
       "        [3., 4.]])"
      ]
     },
     "execution_count": 211,
     "metadata": {},
     "output_type": "execute_result"
    }
   ],
   "source": [
    "A = torch.Tensor([[1,2],[3,4]])\n",
    "A"
   ]
  },
  {
   "cell_type": "code",
   "execution_count": 214,
   "id": "db764474",
   "metadata": {
    "scrolled": false
   },
   "outputs": [
    {
     "data": {
      "text/plain": [
       "tensor([1., 3.])"
      ]
     },
     "execution_count": 214,
     "metadata": {},
     "output_type": "execute_result"
    }
   ],
   "source": [
    "torch.index_select(A,1,torch.tensor([0])).squeeze()"
   ]
  },
  {
   "cell_type": "markdown",
   "id": "e8053e88",
   "metadata": {},
   "source": [
    "---"
   ]
  },
  {
   "cell_type": "code",
   "execution_count": 381,
   "id": "8c5506db",
   "metadata": {},
   "outputs": [
    {
     "data": {
      "text/plain": [
       "torch.Size([1, 1, 1])"
      ]
     },
     "execution_count": 381,
     "metadata": {},
     "output_type": "execute_result"
    }
   ],
   "source": [
    "A = torch.tensor([[[1]]])\n",
    "A.shape"
   ]
  },
  {
   "cell_type": "code",
   "execution_count": 380,
   "id": "d4201204",
   "metadata": {
    "scrolled": true
   },
   "outputs": [
    {
     "data": {
      "text/plain": [
       "torch.Size([1, 2, 2])"
      ]
     },
     "execution_count": 380,
     "metadata": {},
     "output_type": "execute_result"
    }
   ],
   "source": [
    "B = torch.Tensor([[[1,2],[3,4]]])\n",
    "B.shape"
   ]
  },
  {
   "cell_type": "code",
   "execution_count": 379,
   "id": "90e13112",
   "metadata": {
    "scrolled": false
   },
   "outputs": [
    {
     "data": {
      "text/plain": [
       "torch.Size([1, 3, 3])"
      ]
     },
     "execution_count": 379,
     "metadata": {},
     "output_type": "execute_result"
    }
   ],
   "source": [
    "C = torch.tensor([[[1,2,3],[4,5,6],[7,8,9]]])\n",
    "C.shape"
   ]
  },
  {
   "cell_type": "code",
   "execution_count": 426,
   "id": "049b1641",
   "metadata": {
    "scrolled": true
   },
   "outputs": [
    {
     "data": {
      "text/plain": [
       "torch.Size([3, 2, 2])"
      ]
     },
     "execution_count": 426,
     "metadata": {},
     "output_type": "execute_result"
    }
   ],
   "source": [
    "D = torch.Tensor([[[1, 2],\n",
    "                   [3, 4]],\n",
    "                  [[5, 6],\n",
    "                   [7, 8]],\n",
    "                  [[9,10],\n",
    "                   [11,12]  \n",
    "                 ]])\n",
    "D.shape"
   ]
  },
  {
   "cell_type": "code",
   "execution_count": 427,
   "id": "a51a47b0",
   "metadata": {},
   "outputs": [
    {
     "data": {
      "text/plain": [
       "2"
      ]
     },
     "execution_count": 427,
     "metadata": {},
     "output_type": "execute_result"
    }
   ],
   "source": [
    "min(D.shape)"
   ]
  },
  {
   "cell_type": "code",
   "execution_count": 420,
   "id": "c5323bae",
   "metadata": {},
   "outputs": [
    {
     "data": {
      "text/plain": [
       "torch.Size([2, 2, 3])"
      ]
     },
     "execution_count": 420,
     "metadata": {},
     "output_type": "execute_result"
    }
   ],
   "source": [
    "E = torch.tensor([[[1,2,3],[4,5,6]],[[7,8,9],[10,11,12]]])\n",
    "E.shape"
   ]
  },
  {
   "cell_type": "code",
   "execution_count": 430,
   "id": "0edab3c8",
   "metadata": {},
   "outputs": [
    {
     "data": {
      "text/plain": [
       "torch.Size([2, 4, 3])"
      ]
     },
     "execution_count": 430,
     "metadata": {},
     "output_type": "execute_result"
    }
   ],
   "source": [
    "F = torch.tensor([[[1,2,3],[4,5,6],[7,8,9],[10,11,12]],[[13,14,15],[16,17,18],[19,20,21],[22,23,24]]])\n",
    "F.shape"
   ]
  },
  {
   "cell_type": "code",
   "execution_count": 428,
   "id": "634f0692",
   "metadata": {},
   "outputs": [],
   "source": [
    "def get_diag_element_3D(A):\n",
    "    output = torch.tensor([])\n",
    "    for i in range(A.shape[0]):\n",
    "        B = A[i]\n",
    "        diagonal = torch.gather(B,0,torch.arange(min(B.shape)).unsqueeze(0))\n",
    "        output = torch.cat((output,diagonal))\n",
    "\n",
    "    return output"
   ]
  },
  {
   "cell_type": "code",
   "execution_count": 431,
   "id": "e2d72cb9",
   "metadata": {
    "scrolled": true
   },
   "outputs": [
    {
     "name": "stdout",
     "output_type": "stream",
     "text": [
      "tensor([[1.]])\n",
      "tensor([[1., 4.]])\n",
      "tensor([[1., 5., 9.]])\n",
      "tensor([[ 1.,  4.],\n",
      "        [ 5.,  8.],\n",
      "        [ 9., 12.]])\n",
      "tensor([[ 1.,  5.],\n",
      "        [ 7., 11.]])\n",
      "tensor([[ 1.,  5.,  9.],\n",
      "        [13., 17., 21.]])\n"
     ]
    }
   ],
   "source": [
    "print(get_diag_element_3D(A))\n",
    "print(get_diag_element_3D(B))\n",
    "print(get_diag_element_3D(C))\n",
    "print(get_diag_element_3D(D))\n",
    "print(get_diag_element_3D(E))\n",
    "print(get_diag_element_3D(F))"
   ]
  },
  {
   "cell_type": "code",
   "execution_count": 398,
   "id": "d2f56c11",
   "metadata": {
    "scrolled": true
   },
   "outputs": [
    {
     "name": "stdout",
     "output_type": "stream",
     "text": [
      "tensor([])\n",
      "tensor([[1., 2.]])\n",
      "tensor([[1., 2.],\n",
      "        [3., 4.]])\n"
     ]
    }
   ],
   "source": [
    "a = torch.tensor([])\n",
    "b = torch.tensor([[1,2]])\n",
    "c = torch.tensor([[3,4]])\n",
    "d = torch.tensor([[3,4]])\n",
    "print(a)\n",
    "a = torch.cat((a,b))\n",
    "print(a)\n",
    "a = torch.cat((a,c))\n",
    "print(a)"
   ]
  },
  {
   "cell_type": "code",
   "execution_count": 434,
   "id": "5d38e6ee",
   "metadata": {
    "scrolled": true
   },
   "outputs": [
    {
     "name": "stdout",
     "output_type": "stream",
     "text": [
      "tensor([10.])\n"
     ]
    },
    {
     "data": {
      "text/plain": [
       "Parameter containing:\n",
       "tensor([10.], requires_grad=True)"
      ]
     },
     "execution_count": 434,
     "metadata": {},
     "output_type": "execute_result"
    }
   ],
   "source": [
    "from torch.nn.parameter import Parameter\n",
    "a = torch.Tensor([10])\n",
    "print(a)\n",
    "Parameter(a)"
   ]
  },
  {
   "cell_type": "code",
   "execution_count": 440,
   "id": "422a8262",
   "metadata": {},
   "outputs": [
    {
     "data": {
      "text/plain": [
       "torch.Size([20, 100])"
      ]
     },
     "execution_count": 440,
     "metadata": {},
     "output_type": "execute_result"
    }
   ],
   "source": [
    "import torch\n",
    "\n",
    "# With Learnable Parameters\n",
    "m = torch.nn.BatchNorm1d(100)\n",
    "# Without Learnable Parameters\n",
    "# m = nn.BatchNorm1d(100, affine=False)\n",
    "input = torch.randn(20, 100)\n",
    "output = m(input)\n",
    "output.shape"
   ]
  },
  {
   "cell_type": "code",
   "execution_count": null,
   "id": "389ccc44",
   "metadata": {},
   "outputs": [],
   "source": []
  }
 ],
 "metadata": {
  "kernelspec": {
   "display_name": "Python 3 (ipykernel)",
   "language": "python",
   "name": "python3"
  },
  "language_info": {
   "codemirror_mode": {
    "name": "ipython",
    "version": 3
   },
   "file_extension": ".py",
   "mimetype": "text/x-python",
   "name": "python",
   "nbconvert_exporter": "python",
   "pygments_lexer": "ipython3",
   "version": "3.8.10"
  }
 },
 "nbformat": 4,
 "nbformat_minor": 5
}

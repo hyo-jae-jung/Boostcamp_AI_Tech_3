{
 "cells": [
  {
   "cell_type": "markdown",
   "id": "2a4da1c3",
   "metadata": {},
   "source": [
    "# Convolutional Neural Network(CNN)"
   ]
  },
  {
   "cell_type": "markdown",
   "id": "42e3717b",
   "metadata": {},
   "source": [
    "Convolutional Neural Network를 왜 쓰냐?  \n",
    "overfitting을 줄이기 위해서"
   ]
  },
  {
   "cell_type": "markdown",
   "id": "0f3df7a0",
   "metadata": {},
   "source": [
    "채널을 늘리는 이유는?  \n",
    "원본과 비슷한 샘플을 만드는건가?  그런듯?"
   ]
  },
  {
   "cell_type": "markdown",
   "id": "a84014c1",
   "metadata": {},
   "source": [
    "채널을 줄이는 이유 중 하나는 파라미터 개수를 줄이기 위함"
   ]
  },
  {
   "cell_type": "markdown",
   "id": "3933abfe",
   "metadata": {},
   "source": [
    "채널 수 = 필터 수"
   ]
  },
  {
   "cell_type": "markdown",
   "id": "19ae6a08",
   "metadata": {},
   "source": [
    "conv에 이미지를 입력하면 n개의 채널로 n개의 샘플이미지를 만든다  \n",
    "pooling으로 각 샘플이미지를 축소하면서 정수만 추출  \n",
    "결과물을 채널을 축소나 평탄화를 사용해서 vector로 만들고  \n",
    "Fully Connected Layer(Dense layer)를 통과시켜서 예측값을 뽑는다.  \n",
    "예측값과 타겟으로 loss를 측정하고 loss를 줄이는 방향으로 업데이트를 하기위해  \n",
    "파라미터들의 편미분값을 구하고 업데이트한다."
   ]
  }
 ],
 "metadata": {
  "kernelspec": {
   "display_name": "Python 3 (ipykernel)",
   "language": "python",
   "name": "python3"
  },
  "language_info": {
   "codemirror_mode": {
    "name": "ipython",
    "version": 3
   },
   "file_extension": ".py",
   "mimetype": "text/x-python",
   "name": "python",
   "nbconvert_exporter": "python",
   "pygments_lexer": "ipython3",
   "version": "3.8.10"
  }
 },
 "nbformat": 4,
 "nbformat_minor": 5
}

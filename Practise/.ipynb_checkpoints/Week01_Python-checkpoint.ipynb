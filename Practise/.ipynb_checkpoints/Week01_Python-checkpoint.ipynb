{
 "cells": [
  {
   "cell_type": "markdown",
   "id": "3ed11d0f",
   "metadata": {},
   "source": [
    "# Outline"
   ]
  },
  {
   "cell_type": "markdown",
   "id": "e591d4f4",
   "metadata": {},
   "source": [
    "**Dynamic Typing"
   ]
  },
  {
   "cell_type": "markdown",
   "id": "aafd4ba3",
   "metadata": {},
   "source": [
    "**Object-Oriented Programming(OOP)"
   ]
  },
  {
   "cell_type": "markdown",
   "id": "066a9407",
   "metadata": {},
   "source": [
    "**Interpreter"
   ]
  },
  {
   "cell_type": "markdown",
   "id": "0118d52f",
   "metadata": {},
   "source": [
    "# Variables"
   ]
  },
  {
   "cell_type": "markdown",
   "id": "26c83981",
   "metadata": {},
   "source": [
    "**Memory**\n",
    "https://st-lab.tistory.com/198"
   ]
  },
  {
   "cell_type": "markdown",
   "id": "30ae86b1",
   "metadata": {},
   "source": [
    "# console in/out and formatting"
   ]
  },
  {
   "cell_type": "code",
   "execution_count": 21,
   "id": "473d0602",
   "metadata": {
    "scrolled": true
   },
   "outputs": [
    {
     "name": "stdout",
     "output_type": "stream",
     "text": [
      "asdf\n",
      "20\n",
      "12.0\n",
      "name : *asdf\n",
      "age : ***20\n",
      "score : 12.00\n"
     ]
    }
   ],
   "source": [
    "name = input()\n",
    "age = int(input())\n",
    "score = float(input())\n",
    "\n",
    "print(f\"name : {name:*>5s}\\nage : {age:*>5d}\\nscore : {score:*>5.2f}\")"
   ]
  }
 ],
 "metadata": {
  "kernelspec": {
   "display_name": "Python 3 (ipykernel)",
   "language": "python",
   "name": "python3"
  },
  "language_info": {
   "codemirror_mode": {
    "name": "ipython",
    "version": 3
   },
   "file_extension": ".py",
   "mimetype": "text/x-python",
   "name": "python",
   "nbconvert_exporter": "python",
   "pygments_lexer": "ipython3",
   "version": "3.8.10"
  }
 },
 "nbformat": 4,
 "nbformat_minor": 5
}

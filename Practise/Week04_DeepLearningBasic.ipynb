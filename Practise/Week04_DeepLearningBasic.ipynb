{
 "cells": [
  {
   "cell_type": "markdown",
   "id": "59587a37",
   "metadata": {},
   "source": [
    "# Deep Learning Basic"
   ]
  },
  {
   "cell_type": "markdown",
   "id": "15ab7dd4",
   "metadata": {},
   "source": [
    "## 1"
   ]
  },
  {
   "cell_type": "markdown",
   "id": "c649e3f5",
   "metadata": {},
   "source": [
    "### 딥러닝을 잘한다는 의미\n",
    "1. 구현실력(Pytorch)\n",
    "2. 수학스킬(선형대수, 확률론)\n",
    "3. 다양한 연구논문에 대한 이해"
   ]
  },
  {
   "cell_type": "markdown",
   "id": "01442257",
   "metadata": {},
   "source": [
    "### key components of deep learning\n",
    "1. The **data** that the model can learn from\n",
    "2. The **model** how to transform the data\n",
    "3. The **loss** function that quantifies the badness of the model\n",
    "4. The **algorithm** to adjust the parameters to minimize the loss"
   ]
  },
  {
   "cell_type": "markdown",
   "id": "d29f463a",
   "metadata": {},
   "source": [
    "### Data\n",
    "\n",
    "##### Data depend on the type of the problem to solve.\n",
    "\n",
    "1. Classification\n",
    "2. Semantic Segmentation\n",
    "3. Detection\n",
    "4. Pose Estimation\n",
    "5. Visual QnA"
   ]
  },
  {
   "cell_type": "markdown",
   "id": "531bfdcc",
   "metadata": {},
   "source": [
    "### Model\n",
    "\n",
    "AlexNet \n",
    "GoogLeNet  \n",
    "ResNet  \n",
    "DenseNet  \n",
    "LSTM  \n",
    "Deep Auto Encoders  \n",
    "GAN"
   ]
  },
  {
   "cell_type": "markdown",
   "id": "bbb32134",
   "metadata": {},
   "source": [
    "### Loss\n",
    "\n",
    "##### The loss function is a proxy of what we want to achieve.\n",
    "\n",
    "Regression Task -> MSE   \n",
    "Classification Task -> CE(cross entropy)  \n",
    "Probabilistic Task -> MLE  "
   ]
  },
  {
   "cell_type": "markdown",
   "id": "1ffbe6e3",
   "metadata": {},
   "source": [
    "### Optimization Algorithm\n",
    "\n",
    "SGD  \n",
    "Momentum  \n",
    "NAG  \n",
    "Adagrad  \n",
    "Adadelta  \n",
    "Rmsprop\n",
    "\n",
    "Dropout  \n",
    "Early stopping  \n",
    "k-fold validation  \n",
    "Weight  \n",
    "decay  \n",
    "Batch normalization  \n",
    "MixUp  \n",
    "Ensemble  \n",
    "Bayesian Optimization  "
   ]
  },
  {
   "cell_type": "markdown",
   "id": "ec3ba253",
   "metadata": {},
   "source": [
    "### Historical Review\n",
    "\n",
    "Deep Learning's Nost Important Ldeas - A Brief  \n",
    "Historical Review  \n",
    "(Denny Britz)  \n",
    "2020-07-29"
   ]
  },
  {
   "cell_type": "markdown",
   "id": "5491106a",
   "metadata": {},
   "source": [
    "### 2012 - AlexNet\n",
    "\n",
    "알고리즘 : CNN  \n",
    "목적 : 224x224 이미지 분류\n",
    "\n",
    "딥러닝으로 1등한 첫번째 분류방법  \n",
    "\n",
    "알렉스넷 이후 딥러닝이 아닌 분류방법이 1등한적이 없음 패러다임 시프트\n",
    "\n"
   ]
  },
  {
   "cell_type": "markdown",
   "id": "03fc4e9f",
   "metadata": {},
   "source": [
    "### 2013 - DQN\n",
    "\n",
    "알파고 알고리즘"
   ]
  },
  {
   "cell_type": "markdown",
   "id": "25b98bb8",
   "metadata": {},
   "source": [
    "### 2014 -  Encoder / Decoder\n",
    "\n",
    "번역"
   ]
  },
  {
   "cell_type": "markdown",
   "id": "54509ee3",
   "metadata": {},
   "source": [
    "### 2014 - Adam Optimizer\n",
    "\n",
    "결과가 잘나옴  \n",
    "왠만하면 잘된다"
   ]
  },
  {
   "cell_type": "markdown",
   "id": "549a9142",
   "metadata": {},
   "source": [
    "### 2015 - Generative Adversarial Network(GAN)\n",
    "\n",
    "2번에 걸쳐서 자세히 이야기 할 예정"
   ]
  },
  {
   "cell_type": "markdown",
   "id": "7e23709e",
   "metadata": {},
   "source": [
    "### 2015 - Residual Networks\n",
    "\n",
    "더 깊게 쌓을 수 있게 도와준 방법"
   ]
  },
  {
   "cell_type": "markdown",
   "id": "4b2ad866",
   "metadata": {},
   "source": [
    "### 2017 - Transformer\n",
    "\n",
    "Attention Is All You Need\n",
    "\n",
    "자세히 다룰 예정"
   ]
  },
  {
   "cell_type": "markdown",
   "id": "f7ca8647",
   "metadata": {},
   "source": [
    "### 2018 - BERT(fine-tuned NLP models)\n",
    "\n",
    "Bidirectional Encoder Representations from Transformers"
   ]
  },
  {
   "cell_type": "markdown",
   "id": "f5295323",
   "metadata": {},
   "source": [
    "### 2019 - BIG Language Model\n",
    "\n",
    "GPT3, an autoregressive language model with 175 billion parameters"
   ]
  },
  {
   "cell_type": "markdown",
   "id": "03d9429c",
   "metadata": {},
   "source": [
    "### 2020 - Self Supervised Learning\n",
    "\n",
    "SimCLR : a simple framework for contrastive learning of visual representations"
   ]
  },
  {
   "cell_type": "markdown",
   "id": "99af6625",
   "metadata": {},
   "source": [
    "---"
   ]
  },
  {
   "cell_type": "markdown",
   "id": "3768ce82",
   "metadata": {},
   "source": [
    "## 2"
   ]
  },
  {
   "cell_type": "markdown",
   "id": "b5650f6a",
   "metadata": {},
   "source": [
    "### loss function"
   ]
  },
  {
   "cell_type": "markdown",
   "id": "24bf9623",
   "metadata": {},
   "source": [
    "## 3"
   ]
  },
  {
   "cell_type": "markdown",
   "id": "f27e8297",
   "metadata": {},
   "source": [
    "Important Concepts in Optimization\n",
    " - Generalization\n",
    " - Under-fitting vs. over-fitting\n",
    " - Cross validation\n",
    " - Bias-variance tradeoff\n",
    " - Bootstrapping\n",
    " - Bagging and boosting"
   ]
  },
  {
   "cell_type": "markdown",
   "id": "0414db7a",
   "metadata": {},
   "source": [
    "#### Generalization\n",
    "\n",
    "학습이 얼마나 잘 됐는지 나타내는 기준\n",
    "Training error와 Test error의 차이가 작으면 일반화가 잘 됐다는 의미"
   ]
  },
  {
   "cell_type": "markdown",
   "id": "f0ae1889",
   "metadata": {},
   "source": [
    "#### Cross validation(k-fold validation)\n",
    "\n",
    "학습데이터만을 가지고 학습데이터와 Validation data로 나눠서 하이퍼 파라미터를 찾고  \n",
    "찾은 하이퍼 파라미터로 고정을 시켜서 전체 데이터로 학습을 시킨다.\n",
    "**※test data는 어떤 경우에도 학습에 사용하면 안된다.**"
   ]
  },
  {
   "cell_type": "markdown",
   "id": "173376e3",
   "metadata": {},
   "source": [
    "#### Bias and Variance Tradeoff\n",
    "\n",
    "cost = (bias)^2 + variance + noise\n",
    "\n",
    "우리가 최소화 시키려는 cost는 bias, variance, noise로 분리 되는데  \n",
    "bias와 variance의 관계가 비선형적인 관계여서 둘 다 같이 줄이는 것은 불가능하다."
   ]
  },
  {
   "cell_type": "markdown",
   "id": "fa558b72",
   "metadata": {},
   "source": [
    "#### Bootstrapping(신발끈)\n",
    "\n",
    "테스트 데이터를 여러번의 샘플링으로 모델을 여러개 만들어서 모델들이 예측한 값의 일치정도를 보고 전체 데이터로 만들어진 모델의 불일치를 예측하려는 방법"
   ]
  },
  {
   "cell_type": "markdown",
   "id": "8c0c84e3",
   "metadata": {},
   "source": [
    "#### Bagging vs. Boosting\n",
    "\n"
   ]
  },
  {
   "cell_type": "markdown",
   "id": "81ec4063",
   "metadata": {},
   "source": [
    "#### Gradient Descent Methods\n",
    "\n",
    "- Stochastic gradient descent\n",
    "- Mini-batch gradient descent\n",
    "- Batch gradient descent"
   ]
  },
  {
   "cell_type": "markdown",
   "id": "84e4d74e",
   "metadata": {},
   "source": [
    "#### Batch-size Metters\n",
    "배치사이즈가 크면 Sharp Minimum에 도달할 가능성이 높고,  \n",
    "배치사이즈가 작으면 Flat Minimum에 도달할 가능성이 높은데  \n",
    "Flat minimizers가 Sharp Minimizers보다 general하기 때문에 더 좋다."
   ]
  },
  {
   "cell_type": "markdown",
   "id": "e94801b1",
   "metadata": {},
   "source": [
    "- Stochastic gradient descent\n",
    "- Momentum\n",
    "- Nesterov accelerated gradient\n",
    "- Adagrad\n",
    "- Adadelta\n",
    "- RMSprop\n",
    "- Adam\n",
    "\n",
    "결국 optimizer를 선택해야 하는데 optimizer들의 성격을 이해 할 필요가 있다."
   ]
  },
  {
   "cell_type": "markdown",
   "id": "012e56e7",
   "metadata": {},
   "source": [
    "#### Momentum\n",
    "\n",
    "loss 값을 최소화 하는 방향에 관성을 더해서 방향이 바뀌기 전까지는 속도를 더해준다."
   ]
  },
  {
   "cell_type": "markdown",
   "id": "455b83c8",
   "metadata": {},
   "source": [
    "#### Nesterov Accelerated Gradient(NAG)\n",
    "\n",
    "momentum의 문제를 개선한 방법인데  \n",
    "다음번에 이동 할 위치에서의 gradient를 계산한 값을 연산에 추가해서  \n",
    "감속과 방향전환을 더 잘 하게 만드는 방법  "
   ]
  },
  {
   "cell_type": "markdown",
   "id": "4e9efc0a",
   "metadata": {},
   "source": [
    "#### Adagrad\n",
    "\n",
    "파라미터의 변화정도에 따라서 다음 변화량을 조절   \n",
    "많이 변한 파라미터는 다음번엔 적게 변화시키고  \n",
    "적게 변한 파라미터는 다음번엔 많이 변화시킨다.  \n",
    "문제는 시간이 지날수록 결국에는 변화율이 작아져서  \n",
    "학습이 잘 안됨."
   ]
  },
  {
   "cell_type": "markdown",
   "id": "db827034",
   "metadata": {},
   "source": [
    "#### Adadelta\n",
    "\n",
    "adagrad의 문제를 해결하는게 adadelta  \n",
    "계속 작아지는 변화율을 상쇄시키는 변수를 분자에 추가\n",
    "\n",
    "단점은 사람이 조절하는 값(learning rate)가 없어서 조절을 할 여지가 없다.  \n",
    "많이 안씀  "
   ]
  },
  {
   "cell_type": "markdown",
   "id": "5051b773",
   "metadata": {},
   "source": [
    "#### RMSprop"
   ]
  },
  {
   "cell_type": "markdown",
   "id": "57342f8b",
   "metadata": {},
   "source": [
    "#### Adam(Adaptive Moment Estimation)\n",
    "\n",
    "Adaptive + Moment"
   ]
  },
  {
   "cell_type": "markdown",
   "id": "3e260f20",
   "metadata": {},
   "source": [
    "### Regularization\n",
    "\n",
    "- Early stopping\n",
    "- Parameter norm penalty\n",
    "- Data augmentation\n",
    "- Noise robustness\n",
    "- Label smoothing\n",
    "- Dropout\n",
    "- Batch normalization"
   ]
  },
  {
   "cell_type": "markdown",
   "id": "a0811961",
   "metadata": {},
   "source": [
    "#### Early Stopping\n",
    "\n",
    "테스트 데이터로 학습 에러를 줄여나갈 때 closs validation으로 테스트 에러와의 차이가 커지기 전에 멈추는 방법"
   ]
  },
  {
   "cell_type": "markdown",
   "id": "ba7e732b",
   "metadata": {},
   "source": [
    "#### Parameter Norm Penalty\n",
    "\n",
    "파라미터의 크기를 줄이자는 컨셉  \n",
    "\n",
    "부드러운 함수일수록 generalization이 좋을거다 라는 가정에서 출발"
   ]
  },
  {
   "cell_type": "markdown",
   "id": "00d957ec",
   "metadata": {},
   "source": [
    "#### Data Augmentation\n",
    "\n",
    "데이터가 많은게 중요하기 때문에 가지고 있는 데이터를 가지고 augment해서 데이터를 늘리는 방법"
   ]
  },
  {
   "cell_type": "markdown",
   "id": "5621820a",
   "metadata": {},
   "source": [
    "#### Noise Robustness\n",
    "\n",
    "노이즈를 중간중간에 넣으면 학습이 더 잘된다는 방법"
   ]
  },
  {
   "cell_type": "markdown",
   "id": "0ad72a48",
   "metadata": {},
   "source": [
    "#### Label Smoothing\n",
    "\n",
    "MixUp, CutMix"
   ]
  },
  {
   "cell_type": "markdown",
   "id": "89e069b2",
   "metadata": {},
   "source": [
    "#### Dropout\n",
    "\n",
    "forwardpropagation에서 랜덤으로 노드를 끄는 방법"
   ]
  },
  {
   "cell_type": "markdown",
   "id": "72314bdb",
   "metadata": {},
   "source": [
    "#### Batch Normalization\n",
    "\n"
   ]
  },
  {
   "cell_type": "markdown",
   "id": "d9aefa9f",
   "metadata": {},
   "source": [
    "---"
   ]
  },
  {
   "cell_type": "markdown",
   "id": "d3611af9",
   "metadata": {},
   "source": [
    "## 4 CNN"
   ]
  },
  {
   "cell_type": "markdown",
   "id": "674e6ae6",
   "metadata": {},
   "source": [
    "## 5 Modern CNN"
   ]
  },
  {
   "cell_type": "code",
   "execution_count": null,
   "id": "32aefba7",
   "metadata": {},
   "outputs": [],
   "source": []
  },
  {
   "cell_type": "code",
   "execution_count": null,
   "id": "0193fdbc",
   "metadata": {},
   "outputs": [],
   "source": []
  },
  {
   "cell_type": "code",
   "execution_count": null,
   "id": "5994f4a3",
   "metadata": {},
   "outputs": [],
   "source": []
  },
  {
   "cell_type": "code",
   "execution_count": null,
   "id": "14bce0fa",
   "metadata": {},
   "outputs": [],
   "source": []
  },
  {
   "cell_type": "code",
   "execution_count": null,
   "id": "85935acf",
   "metadata": {},
   "outputs": [],
   "source": []
  },
  {
   "cell_type": "code",
   "execution_count": null,
   "id": "c8b888cb",
   "metadata": {},
   "outputs": [],
   "source": []
  },
  {
   "cell_type": "code",
   "execution_count": null,
   "id": "92a24eee",
   "metadata": {},
   "outputs": [],
   "source": []
  },
  {
   "cell_type": "code",
   "execution_count": null,
   "id": "7b714d05",
   "metadata": {},
   "outputs": [],
   "source": []
  },
  {
   "cell_type": "code",
   "execution_count": null,
   "id": "23fe51c2",
   "metadata": {},
   "outputs": [],
   "source": []
  },
  {
   "cell_type": "code",
   "execution_count": null,
   "id": "e92440ff",
   "metadata": {},
   "outputs": [],
   "source": []
  },
  {
   "cell_type": "code",
   "execution_count": null,
   "id": "41aad2a1",
   "metadata": {},
   "outputs": [],
   "source": []
  },
  {
   "cell_type": "code",
   "execution_count": null,
   "id": "c0c5cf30",
   "metadata": {},
   "outputs": [],
   "source": []
  },
  {
   "cell_type": "code",
   "execution_count": null,
   "id": "6469cf7e",
   "metadata": {},
   "outputs": [],
   "source": []
  },
  {
   "cell_type": "markdown",
   "id": "7055c414",
   "metadata": {},
   "source": []
  }
 ],
 "metadata": {
  "kernelspec": {
   "display_name": "Python 3 (ipykernel)",
   "language": "python",
   "name": "python3"
  },
  "language_info": {
   "codemirror_mode": {
    "name": "ipython",
    "version": 3
   },
   "file_extension": ".py",
   "mimetype": "text/x-python",
   "name": "python",
   "nbconvert_exporter": "python",
   "pygments_lexer": "ipython3",
   "version": "3.8.10"
  }
 },
 "nbformat": 4,
 "nbformat_minor": 5
}

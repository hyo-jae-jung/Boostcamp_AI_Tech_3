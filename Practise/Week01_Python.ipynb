{
 "cells": [
  {
   "cell_type": "markdown",
   "id": "22b78cb2",
   "metadata": {},
   "source": [
    "# Outline"
   ]
  },
  {
   "cell_type": "markdown",
   "id": "0adc713a",
   "metadata": {},
   "source": [
    "**Dynamic Typing"
   ]
  },
  {
   "cell_type": "markdown",
   "id": "26c7b096",
   "metadata": {},
   "source": [
    "**Object-Oriented Programming(OOP)"
   ]
  },
  {
   "cell_type": "markdown",
   "id": "4da99acc",
   "metadata": {},
   "source": [
    "**Interpreter"
   ]
  },
  {
   "cell_type": "markdown",
   "id": "177a33d1",
   "metadata": {},
   "source": [
    "# Variables"
   ]
  },
  {
   "cell_type": "markdown",
   "id": "46eac999",
   "metadata": {},
   "source": [
    "**Memory**\n",
    "https://st-lab.tistory.com/198"
   ]
  },
  {
   "cell_type": "markdown",
   "id": "c46cc592",
   "metadata": {},
   "source": [
    "# console in/out and formatting"
   ]
  },
  {
   "cell_type": "code",
   "execution_count": 21,
   "id": "2f3c7b79",
   "metadata": {
    "scrolled": true
   },
   "outputs": [
    {
     "name": "stdout",
     "output_type": "stream",
     "text": [
      "asdf\n",
      "20\n",
      "12.0\n",
      "name : *asdf\n",
      "age : ***20\n",
      "score : 12.00\n"
     ]
    }
   ],
   "source": [
    "name = input()\n",
    "age = int(input())\n",
    "score = float(input())\n",
    "\n",
    "print(f\"name : {name:*>5s}\\nage : {age:*>5d}\\nscore : {score:*>5.2f}\")"
   ]
  },
  {
   "cell_type": "markdown",
   "id": "d9600b5e",
   "metadata": {},
   "source": [
    "# Conditionals and Loops"
   ]
  },
  {
   "cell_type": "markdown",
   "id": "9e880458",
   "metadata": {},
   "source": [
    "1. 비교연산자에서 is 연산자는 메모리의 주소를 기준으로 판단한다.\n",
    "2. python에서 정수 -5 ~ 256까지는 정적변수로써 고정된 주소를 가지고 있다. 그래서 해당 범위의 숫자를 변수선언하면 항상 같은 주소를 가지게 된다."
   ]
  },
  {
   "cell_type": "code",
   "execution_count": 26,
   "id": "8e070f9e",
   "metadata": {},
   "outputs": [
    {
     "data": {
      "text/plain": [
       "True"
      ]
     },
     "execution_count": 26,
     "metadata": {},
     "output_type": "execute_result"
    }
   ],
   "source": [
    "a = 100\n",
    "b = 100\n",
    "a is b\n",
    "# 100은 정적변수여서 a와 b 모두 주소가 같다."
   ]
  },
  {
   "cell_type": "code",
   "execution_count": 27,
   "id": "50d228e0",
   "metadata": {},
   "outputs": [
    {
     "data": {
      "text/plain": [
       "False"
      ]
     },
     "execution_count": 27,
     "metadata": {},
     "output_type": "execute_result"
    }
   ],
   "source": [
    "a = 300\n",
    "b = 300\n",
    "a is b\n",
    "# 300은 동적변수기 때문에 값은 같아도 주소가 다르다."
   ]
  },
  {
   "cell_type": "code",
   "execution_count": 29,
   "id": "fcf7fc71",
   "metadata": {},
   "outputs": [
    {
     "data": {
      "text/plain": [
       "True"
      ]
     },
     "execution_count": 29,
     "metadata": {},
     "output_type": "execute_result"
    }
   ],
   "source": [
    "a = -10\n",
    "b = a\n",
    "c = a\n",
    "b is c\n",
    "# b와 c는 동일한 주소를 가진다."
   ]
  },
  {
   "cell_type": "markdown",
   "id": "929e3a69",
   "metadata": {},
   "source": [
    "== 는 값만 비교하고 is는 주소를 비교하는데 값에 접근하려면 주소를 알아야 하니까 "
   ]
  },
  {
   "cell_type": "markdown",
   "id": "96886d4c",
   "metadata": {},
   "source": [
    "---"
   ]
  },
  {
   "cell_type": "code",
   "execution_count": 30,
   "id": "d2f86f6d",
   "metadata": {},
   "outputs": [],
   "source": [
    "boolean_list = [True,False,True,False]"
   ]
  },
  {
   "cell_type": "code",
   "execution_count": 31,
   "id": "36b47913",
   "metadata": {},
   "outputs": [
    {
     "data": {
      "text/plain": [
       "False"
      ]
     },
     "execution_count": 31,
     "metadata": {},
     "output_type": "execute_result"
    }
   ],
   "source": [
    "all(boolean_list)"
   ]
  },
  {
   "cell_type": "code",
   "execution_count": 32,
   "id": "817eec12",
   "metadata": {},
   "outputs": [
    {
     "data": {
      "text/plain": [
       "True"
      ]
     },
     "execution_count": 32,
     "metadata": {},
     "output_type": "execute_result"
    }
   ],
   "source": [
    "any(boolean_list)"
   ]
  },
  {
   "cell_type": "markdown",
   "id": "16055e34",
   "metadata": {},
   "source": [
    "**all과 any함수를 사용하면 반복적인 자료에 대한 논리연산을 할 수 있다."
   ]
  },
  {
   "cell_type": "code",
   "execution_count": 33,
   "id": "cae68808",
   "metadata": {
    "scrolled": false
   },
   "outputs": [
    {
     "name": "stdout",
     "output_type": "stream",
     "text": [
      "True\n"
     ]
    }
   ],
   "source": [
    "# Ternary operators\n",
    "value = 12\n",
    "is_even = True if value % 2 == 0 else False\n",
    "print(is_even)"
   ]
  },
  {
   "cell_type": "code",
   "execution_count": 40,
   "id": "b441d7bd",
   "metadata": {
    "scrolled": true
   },
   "outputs": [
    {
     "data": {
      "text/plain": [
       "[10, 8, 6, 4, 2, 0, -2]"
      ]
     },
     "execution_count": 40,
     "metadata": {},
     "output_type": "execute_result"
    }
   ],
   "source": [
    "list(range(10,-4,-2))"
   ]
  },
  {
   "cell_type": "code",
   "execution_count": 42,
   "id": "a9f4c131",
   "metadata": {
    "scrolled": true
   },
   "outputs": [
    {
     "data": {
      "text/plain": [
       "[8, 6, 4, 2, 0, -2, -4]"
      ]
     },
     "execution_count": 42,
     "metadata": {},
     "output_type": "execute_result"
    }
   ],
   "source": [
    "list(reversed(range(-4,10,2)))"
   ]
  },
  {
   "cell_type": "code",
   "execution_count": 43,
   "id": "e8916fb1",
   "metadata": {
    "scrolled": false
   },
   "outputs": [
    {
     "name": "stdout",
     "output_type": "stream",
     "text": [
      "구구단 몇단을 계산할까요?\n",
      "5\n",
      "구구단 5단을 계산합니다.\n",
      "5 X 1 = 5\n",
      "5 X 1 = 10\n",
      "5 X 1 = 15\n",
      "5 X 1 = 20\n",
      "5 X 1 = 25\n",
      "5 X 1 = 30\n",
      "5 X 1 = 35\n",
      "5 X 1 = 40\n",
      "5 X 1 = 45\n"
     ]
    }
   ],
   "source": [
    "print(\"구구단 몇단을 계산할까요?\")\n",
    "selected_number = int(input())\n",
    "print(\"구구단 {}단을 계산합니다.\".format(selected_number))\n",
    "for i in range(1,10):\n",
    "    print(\"{} X 1 = {}\".format(selected_number,selected_number*i))"
   ]
  },
  {
   "cell_type": "code",
   "execution_count": 56,
   "id": "98bc082f",
   "metadata": {
    "scrolled": false
   },
   "outputs": [
    {
     "name": "stdout",
     "output_type": "stream",
     "text": [
      "숫자를 맞춰보세요(1 ~ 100)\n",
      "10\n",
      "숫자가 너무 작습니다\n",
      "20\n",
      "숫자가 너무 작습니다\n",
      "40\n",
      "숫자가 너무 작습니다\n",
      "60\n",
      "숫자가 너무 작습니다\n",
      "70\n",
      "숫자가 너무 큽니다\n",
      "65\n",
      "정답입니다. 입력한 숫자는 65입니다\n"
     ]
    }
   ],
   "source": [
    "import random\n",
    "\n",
    "random_number = random.randrange(1,101)\n",
    "print(\"숫자를 맞춰보세요(1 ~ 100)\")\n",
    "\n",
    "while True:\n",
    "    input_number = int(input())\n",
    "    if random_number == input_number:\n",
    "        print(f\"정답입니다. 입력한 숫자는 {input_number}입니다\")\n",
    "        break\n",
    "    elif random_number > input_number:\n",
    "        print(\"숫자가 너무 작습니다\")\n",
    "    else:\n",
    "        print(\"숫자가 너무 큽니다\")"
   ]
  },
  {
   "cell_type": "markdown",
   "id": "9d1e8721",
   "metadata": {},
   "source": [
    "나는 while문을 쓸 때 위와 같이 짜는게 직관적으로 이해가 쉬워서 저렇게 짜는데\n",
    "while문 밖에 input_number를 미리 선언해주면 조건을 3개나 확인 안해도 될 것 같아서 도 좋을 것 같다.\n",
    "나처럼 짜는게 좋지 않다는 이야기를 강의에서 하심. 바꿔야겠다.."
   ]
  },
  {
   "cell_type": "code",
   "execution_count": 60,
   "id": "48ac9235",
   "metadata": {
    "scrolled": false
   },
   "outputs": [
    {
     "name": "stdout",
     "output_type": "stream",
     "text": [
      "숫자를 맞춰보세요(1 ~ 100)\n",
      "100\n",
      "숫자가 너무 큽니다\n",
      "50\n",
      "숫자가 너무 작습니다\n",
      "70\n",
      "숫자가 너무 작습니다\n",
      "80\n",
      "숫자가 너무 작습니다\n",
      "90\n",
      "숫자가 너무 큽니다\n",
      "89\n",
      "정답입니다. 입력한 숫자는 89입니다\n"
     ]
    }
   ],
   "source": [
    "import random\n",
    "\n",
    "random_number = random.randrange(1,101)\n",
    "print(\"숫자를 맞춰보세요(1 ~ 100)\")\n",
    "input_number = 0\n",
    "\n",
    "while random_number != input_number:\n",
    "    input_number = int(input())\n",
    "    if input_number > random_number:\n",
    "        print(\"숫자가 너무 큽니다\")\n",
    "    elif input_number < random_number:\n",
    "        print(\"숫자가 너무 작습니다\")\n",
    "        \n",
    "print(f\"정답입니다. 입력한 숫자는 {input_number}입니다\")"
   ]
  },
  {
   "cell_type": "markdown",
   "id": "9a840c5c",
   "metadata": {},
   "source": [
    "# Debugging"
   ]
  },
  {
   "cell_type": "markdown",
   "id": "4f5280b2",
   "metadata": {},
   "source": [
    "main함수를 짜서 오류가 나는지 체크"
   ]
  },
  {
   "cell_type": "code",
   "execution_count": 62,
   "id": "9c53c5e7",
   "metadata": {},
   "outputs": [
    {
     "ename": "NameError",
     "evalue": "name 'main' is not defined",
     "output_type": "error",
     "traceback": [
      "\u001b[0;31m---------------------------------------------------------------------------\u001b[0m",
      "\u001b[0;31mNameError\u001b[0m                                 Traceback (most recent call last)",
      "Input \u001b[0;32mIn [62]\u001b[0m, in \u001b[0;36m<module>\u001b[0;34m\u001b[0m\n\u001b[1;32m      1\u001b[0m \u001b[38;5;28;01mimport\u001b[39;00m \u001b[38;5;21;01mdebug_ex\u001b[39;00m\n\u001b[0;32m----> 3\u001b[0m \u001b[43mmain\u001b[49m()\n",
      "\u001b[0;31mNameError\u001b[0m: name 'main' is not defined"
     ]
    }
   ],
   "source": [
    "import debug_ex\n",
    "\n",
    "main()"
   ]
  }
 ],
 "metadata": {
  "kernelspec": {
   "display_name": "Python 3 (ipykernel)",
   "language": "python",
   "name": "python3"
  },
  "language_info": {
   "codemirror_mode": {
    "name": "ipython",
    "version": 3
   },
   "file_extension": ".py",
   "mimetype": "text/x-python",
   "name": "python",
   "nbconvert_exporter": "python",
   "pygments_lexer": "ipython3",
   "version": "3.8.10"
  }
 },
 "nbformat": 4,
 "nbformat_minor": 5
}

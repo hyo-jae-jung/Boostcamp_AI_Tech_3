{
 "cells": [
  {
   "cell_type": "markdown",
   "id": "be68fe31",
   "metadata": {},
   "source": [
    "# Outline"
   ]
  },
  {
   "cell_type": "markdown",
   "id": "39d16aeb",
   "metadata": {},
   "source": [
    "**Dynamic Typing"
   ]
  },
  {
   "cell_type": "markdown",
   "id": "f57c8c51",
   "metadata": {},
   "source": [
    "**Object-Oriented Programming(OOP)"
   ]
  },
  {
   "cell_type": "markdown",
   "id": "061b80b2",
   "metadata": {},
   "source": [
    "**Interpreter**  \n",
    "\n"
   ]
  },
  {
   "cell_type": "code",
   "execution_count": null,
   "id": "a89a1d87",
   "metadata": {},
   "outputs": [],
   "source": []
  },
  {
   "cell_type": "markdown",
   "id": "d3027034",
   "metadata": {},
   "source": [
    "# Variables"
   ]
  },
  {
   "cell_type": "markdown",
   "id": "d710f50e",
   "metadata": {},
   "source": [
    "깊에 파고들면 메모리도 어렵지만 변수를 선언하면 메모리를 변수에 할당하는데 변수에 주소를 부여한다는 의미이다. \n",
    "\n",
    "\n",
    "계산을 하는 과정을 정리하면  \n",
    "\n",
    "1. 코드를 어셈블리어로 변환  \n",
    "2. 어셈블리어를 기계어로 변환  \n",
    "3. 기계어를 메모리에 저장  \n",
    "4. CPU에서 메모리를 읽고 계산\n",
    "5. 계산된 값을 메모리에 저장\n",
    "    \n",
    "간단하게 이정도로 요약했는데 아래의 CPU관련 영상에 더 자세한 설명이 있다."
   ]
  },
  {
   "cell_type": "markdown",
   "id": "e178a632",
   "metadata": {},
   "source": [
    "**CPU**  \n",
    "https://www.youtube.com/watch?v=Fg00LN30Ezg"
   ]
  },
  {
   "cell_type": "markdown",
   "id": "af907953",
   "metadata": {},
   "source": [
    "# console in/out and formatting"
   ]
  },
  {
   "cell_type": "code",
   "execution_count": 21,
   "id": "cdafc105",
   "metadata": {
    "scrolled": true
   },
   "outputs": [
    {
     "name": "stdout",
     "output_type": "stream",
     "text": [
      "asdf\n",
      "20\n",
      "12.0\n",
      "name : *asdf\n",
      "age : ***20\n",
      "score : 12.00\n"
     ]
    }
   ],
   "source": [
    "name = input()\n",
    "age = int(input())\n",
    "score = float(input())\n",
    "\n",
    "print(f\"name : {name:*>5s}\\nage : {age:*>5d}\\nscore : {score:*>5.2f}\")"
   ]
  },
  {
   "cell_type": "markdown",
   "id": "30bee778",
   "metadata": {},
   "source": [
    "# Conditionals and Loops"
   ]
  },
  {
   "cell_type": "markdown",
   "id": "84d0178e",
   "metadata": {},
   "source": [
    "1. 비교연산자에서 is 연산자는 메모리의 주소를 기준으로 판단한다.\n",
    "2. python에서 정수 -5 ~ 256까지는 정적변수로써 고정된 주소를 가지고 있다. 그래서 해당 범위의 숫자를 변수선언하면 항상 같은 주소를 가지게 된다."
   ]
  },
  {
   "cell_type": "code",
   "execution_count": 36,
   "id": "00929291",
   "metadata": {},
   "outputs": [
    {
     "name": "stdout",
     "output_type": "stream",
     "text": [
      "9792160 9792160\n"
     ]
    },
    {
     "data": {
      "text/plain": [
       "True"
      ]
     },
     "execution_count": 36,
     "metadata": {},
     "output_type": "execute_result"
    }
   ],
   "source": [
    "a = 100\n",
    "b = 100\n",
    "print(id(a),id(b))\n",
    "a is b\n",
    "# 100은 정적변수여서 a와 b 모두 주소가 같다."
   ]
  },
  {
   "cell_type": "code",
   "execution_count": 37,
   "id": "f2e7b921",
   "metadata": {},
   "outputs": [
    {
     "name": "stdout",
     "output_type": "stream",
     "text": [
      "140028664289104 140028664288336\n"
     ]
    },
    {
     "data": {
      "text/plain": [
       "False"
      ]
     },
     "execution_count": 37,
     "metadata": {},
     "output_type": "execute_result"
    }
   ],
   "source": [
    "a = 300\n",
    "b = 300\n",
    "print(id(a),id(b))\n",
    "a is b\n",
    "# 300은 동적변수기 때문에 값은 같아도 주소가 다르다."
   ]
  },
  {
   "cell_type": "code",
   "execution_count": 38,
   "id": "9a480d20",
   "metadata": {},
   "outputs": [
    {
     "name": "stdout",
     "output_type": "stream",
     "text": [
      "140028664289136 140028664289136\n"
     ]
    },
    {
     "data": {
      "text/plain": [
       "True"
      ]
     },
     "execution_count": 38,
     "metadata": {},
     "output_type": "execute_result"
    }
   ],
   "source": [
    "a = -10\n",
    "b = a\n",
    "c = a\n",
    "print(id(a),id(b))\n",
    "b is c\n",
    "# b와 c는 동일한 주소를 가진다."
   ]
  },
  {
   "cell_type": "markdown",
   "id": "620c6c70",
   "metadata": {},
   "source": [
    "== 는 값만 비교하고 is는 주소를 비교하는데 값에 접근하려면 주소를 알아야 하니까 주소비교로 계산을 끝내면 더 효율적인 코딩이 되지 않을까? 최성철 교수님도 is 사용에 긍정적인 것 같은데 파이썬에서 warning으로 주의를 주는듯"
   ]
  },
  {
   "cell_type": "markdown",
   "id": "96e6c9fe",
   "metadata": {},
   "source": [
    "---"
   ]
  },
  {
   "cell_type": "code",
   "execution_count": 30,
   "id": "aa8be885",
   "metadata": {},
   "outputs": [],
   "source": [
    "boolean_list = [True,False,True,False]"
   ]
  },
  {
   "cell_type": "code",
   "execution_count": 31,
   "id": "e0f8d631",
   "metadata": {},
   "outputs": [
    {
     "data": {
      "text/plain": [
       "False"
      ]
     },
     "execution_count": 31,
     "metadata": {},
     "output_type": "execute_result"
    }
   ],
   "source": [
    "all(boolean_list)"
   ]
  },
  {
   "cell_type": "code",
   "execution_count": 32,
   "id": "6ad93572",
   "metadata": {},
   "outputs": [
    {
     "data": {
      "text/plain": [
       "True"
      ]
     },
     "execution_count": 32,
     "metadata": {},
     "output_type": "execute_result"
    }
   ],
   "source": [
    "any(boolean_list)"
   ]
  },
  {
   "cell_type": "markdown",
   "id": "5cc4cb23",
   "metadata": {},
   "source": [
    "**all과 any함수를 사용하면 반복적인 자료에 대한 논리연산을 할 수 있다."
   ]
  },
  {
   "cell_type": "code",
   "execution_count": 33,
   "id": "0b735c3a",
   "metadata": {
    "scrolled": false
   },
   "outputs": [
    {
     "name": "stdout",
     "output_type": "stream",
     "text": [
      "True\n"
     ]
    }
   ],
   "source": [
    "# Ternary operators\n",
    "value = 12\n",
    "is_even = True if value % 2 == 0 else False\n",
    "print(is_even)"
   ]
  },
  {
   "cell_type": "code",
   "execution_count": 40,
   "id": "23b05ef9",
   "metadata": {
    "scrolled": true
   },
   "outputs": [
    {
     "data": {
      "text/plain": [
       "[10, 8, 6, 4, 2, 0, -2]"
      ]
     },
     "execution_count": 40,
     "metadata": {},
     "output_type": "execute_result"
    }
   ],
   "source": [
    "list(range(10,-4,-2))"
   ]
  },
  {
   "cell_type": "code",
   "execution_count": 42,
   "id": "90ea339a",
   "metadata": {
    "scrolled": true
   },
   "outputs": [
    {
     "data": {
      "text/plain": [
       "[8, 6, 4, 2, 0, -2, -4]"
      ]
     },
     "execution_count": 42,
     "metadata": {},
     "output_type": "execute_result"
    }
   ],
   "source": [
    "list(reversed(range(-4,10,2)))"
   ]
  },
  {
   "cell_type": "code",
   "execution_count": 43,
   "id": "f5b05501",
   "metadata": {
    "scrolled": false
   },
   "outputs": [
    {
     "name": "stdout",
     "output_type": "stream",
     "text": [
      "구구단 몇단을 계산할까요?\n",
      "5\n",
      "구구단 5단을 계산합니다.\n",
      "5 X 1 = 5\n",
      "5 X 1 = 10\n",
      "5 X 1 = 15\n",
      "5 X 1 = 20\n",
      "5 X 1 = 25\n",
      "5 X 1 = 30\n",
      "5 X 1 = 35\n",
      "5 X 1 = 40\n",
      "5 X 1 = 45\n"
     ]
    }
   ],
   "source": [
    "print(\"구구단 몇단을 계산할까요?\")\n",
    "selected_number = int(input())\n",
    "print(\"구구단 {}단을 계산합니다.\".format(selected_number))\n",
    "for i in range(1,10):\n",
    "    print(\"{} X 1 = {}\".format(selected_number,selected_number*i))"
   ]
  },
  {
   "cell_type": "code",
   "execution_count": 56,
   "id": "fe6cd401",
   "metadata": {
    "scrolled": false
   },
   "outputs": [
    {
     "name": "stdout",
     "output_type": "stream",
     "text": [
      "숫자를 맞춰보세요(1 ~ 100)\n",
      "10\n",
      "숫자가 너무 작습니다\n",
      "20\n",
      "숫자가 너무 작습니다\n",
      "40\n",
      "숫자가 너무 작습니다\n",
      "60\n",
      "숫자가 너무 작습니다\n",
      "70\n",
      "숫자가 너무 큽니다\n",
      "65\n",
      "정답입니다. 입력한 숫자는 65입니다\n"
     ]
    }
   ],
   "source": [
    "import random\n",
    "\n",
    "random_number = random.randrange(1,101)\n",
    "print(\"숫자를 맞춰보세요(1 ~ 100)\")\n",
    "\n",
    "while True:\n",
    "    input_number = int(input())\n",
    "    if random_number == input_number:\n",
    "        print(f\"정답입니다. 입력한 숫자는 {input_number}입니다\")\n",
    "        break\n",
    "    elif random_number > input_number:\n",
    "        print(\"숫자가 너무 작습니다\")\n",
    "    else:\n",
    "        print(\"숫자가 너무 큽니다\")"
   ]
  },
  {
   "cell_type": "markdown",
   "id": "296b8de8",
   "metadata": {},
   "source": [
    "나는 while문을 쓸 때 위와 같이 짜는게 직관적으로 이해가 쉬워서 저렇게 짜는데\n",
    "while문 밖에 input_number를 미리 선언해주면 조건을 3개나 확인 안해도 될 것 같아서 도 좋을 것 같다.\n",
    "나처럼 짜는게 좋지 않다는 이야기를 강의에서 하심. 바꿔야겠다.."
   ]
  },
  {
   "cell_type": "code",
   "execution_count": 60,
   "id": "0f450aa1",
   "metadata": {
    "scrolled": false
   },
   "outputs": [
    {
     "name": "stdout",
     "output_type": "stream",
     "text": [
      "숫자를 맞춰보세요(1 ~ 100)\n",
      "100\n",
      "숫자가 너무 큽니다\n",
      "50\n",
      "숫자가 너무 작습니다\n",
      "70\n",
      "숫자가 너무 작습니다\n",
      "80\n",
      "숫자가 너무 작습니다\n",
      "90\n",
      "숫자가 너무 큽니다\n",
      "89\n",
      "정답입니다. 입력한 숫자는 89입니다\n"
     ]
    }
   ],
   "source": [
    "import random\n",
    "\n",
    "random_number = random.randrange(1,101)\n",
    "print(\"숫자를 맞춰보세요(1 ~ 100)\")\n",
    "input_number = 0\n",
    "\n",
    "while random_number != input_number:\n",
    "    input_number = int(input())\n",
    "    if input_number > random_number:\n",
    "        print(\"숫자가 너무 큽니다\")\n",
    "    elif input_number < random_number:\n",
    "        print(\"숫자가 너무 작습니다\")\n",
    "        \n",
    "print(f\"정답입니다. 입력한 숫자는 {input_number}입니다\")"
   ]
  },
  {
   "cell_type": "markdown",
   "id": "33ac16d0",
   "metadata": {},
   "source": [
    "### Debugging"
   ]
  },
  {
   "cell_type": "markdown",
   "id": "6f9f7c24",
   "metadata": {},
   "source": [
    "debug_ex.py라는 파일을 만들고 main함수를 만들어서 디버깅을 했다.  \n",
    "파일을 실행하면 main함수를 실행해서 디버깅을 하는데  \n",
    "파일을 다른 위치에서 import하면 main함수가 실행되지 않는다. 왜?  \n",
    "if __name__ == \"__main__\":  \n",
    "    main()  \n",
    "이 코딩 때문인데 메인함수를 생성된 파일 안에서만 실행하겠다는 의미이다.  \n",
    "__name__은 모듈의 이름을 담고있는 내장변수이고  \n",
    "__main__은 __name__이 파일 내부에서 실행 될 때 가지는 이름이고   \n",
    "                         파일 외부에서 실행되면 모듈 이름을 출력한다.  \n",
    "\n",
    "그래서 파일이 외부에서 실행되냐 내부에서 실행되냐에 따라 조건을 부여 할 수 있게 된다."
   ]
  },
  {
   "cell_type": "markdown",
   "id": "34fc48ef",
   "metadata": {},
   "source": [
    "if __name__ == \"__main__\"의 의미?  \n",
    "https://hyoje420.tistory.com/45  "
   ]
  },
  {
   "cell_type": "markdown",
   "id": "26b5d18e",
   "metadata": {},
   "source": [
    "---"
   ]
  },
  {
   "cell_type": "markdown",
   "id": "ec2ed1e7",
   "metadata": {},
   "source": [
    "# String and advanced function concept"
   ]
  },
  {
   "cell_type": "markdown",
   "id": "5fa8be8a",
   "metadata": {},
   "source": [
    "### string"
   ]
  },
  {
   "cell_type": "code",
   "execution_count": 18,
   "id": "6ec07c19",
   "metadata": {},
   "outputs": [
    {
     "name": "stdout",
     "output_type": "stream",
     "text": [
      "I never saw a wild thing sorry for itself.\n",
      "Invrswawl hn or o tef\n",
      ".flesti rof yrros gniht dliw a was reven I\n"
     ]
    }
   ],
   "source": [
    "text = \"I never saw a wild thing sorry for itself.\"\n",
    "print(text[-50:50])\n",
    "print(text[::2])\n",
    "print(text[::-1])"
   ]
  },
  {
   "cell_type": "code",
   "execution_count": 29,
   "id": "69d04907",
   "metadata": {},
   "outputs": [
    {
     "name": "stdout",
     "output_type": "stream",
     "text": [
      "50 51 52\n"
     ]
    }
   ],
   "source": [
    "import sys\n",
    "print(sys.getsizeof(\"a\"),sys.getsizeof(\"ab\"),sys.getsizeof(\"abc\"))  \n",
    "# “a”, “ab”, “abc”의 각 메모리 사이즈 출력"
   ]
  },
  {
   "cell_type": "markdown",
   "id": "64ab16c1",
   "metadata": {},
   "source": [
    "- 시퀀스자료형으로문자형data를메모리에저장  \n",
    "\n",
    "- 영문자한글자는1byte의메모리공간을사용  \n",
    "\n",
    "- 1byte = 8bit = 2^8 = 256 인데 256가지 표현이 가능하다는 의미\n",
    "\n",
    "- 컴퓨터는 256가지 표현을 이진수로 받아들이는데 이진수를 사람이 이해가능한 문자로 변환하는 규칙이 존재\n",
    "\n",
    "- 그게 문자 인코딩(https://ko.wikipedia.org/wiki/%EB%AC%B8%EC%9E%90_%EC%9D%B8%EC%BD%94%EB%94%A9)\n",
    "\n",
    "- 우리는 UTF-8을 주로 사용\n",
    "\n",
    "정리하면  \n",
    "    사람이 문자를 입력하면  \n",
    "    컴퓨터는 문자 인코딩으로   \n",
    "    입력된 문자를 디코딩 한 후   \n",
    "    이진수로 저장\n",
    "    출력은 반대로 저장된 이진수 데이터를\n",
    "    인코딩 한 후 출력"
   ]
  },
  {
   "cell_type": "code",
   "execution_count": 30,
   "id": "f13285ec",
   "metadata": {},
   "outputs": [
    {
     "data": {
      "text/plain": [
       "True"
      ]
     },
     "execution_count": 30,
     "metadata": {},
     "output_type": "execute_result"
    }
   ],
   "source": [
    "a = \"aaaaaafkjsdglhsdkjshdlgkjs\"\n",
    "b = \"aaaaaafkjsdglhsdkjshdlgkjs\"\n",
    "a is b"
   ]
  },
  {
   "cell_type": "code",
   "execution_count": 31,
   "id": "3ef7a6e5",
   "metadata": {},
   "outputs": [
    {
     "data": {
      "text/plain": [
       "140029028331888"
      ]
     },
     "execution_count": 31,
     "metadata": {},
     "output_type": "execute_result"
    }
   ],
   "source": [
    "id(a)"
   ]
  },
  {
   "cell_type": "code",
   "execution_count": 32,
   "id": "95fb1f2c",
   "metadata": {
    "scrolled": true
   },
   "outputs": [
    {
     "data": {
      "text/plain": [
       "140029028331888"
      ]
     },
     "execution_count": 32,
     "metadata": {},
     "output_type": "execute_result"
    }
   ],
   "source": [
    "id(b)"
   ]
  },
  {
   "cell_type": "code",
   "execution_count": 34,
   "id": "9c6f3350",
   "metadata": {},
   "outputs": [
    {
     "data": {
      "text/plain": [
       "140028664532864"
      ]
     },
     "execution_count": 34,
     "metadata": {},
     "output_type": "execute_result"
    }
   ],
   "source": [
    "c = a+b\n",
    "id(c)"
   ]
  },
  {
   "cell_type": "code",
   "execution_count": 35,
   "id": "f9c8ae5b",
   "metadata": {},
   "outputs": [
    {
     "data": {
      "text/plain": [
       "140028664532864"
      ]
     },
     "execution_count": 35,
     "metadata": {},
     "output_type": "execute_result"
    }
   ],
   "source": [
    "d = \"sdfsd\"\n",
    "c = c+d\n",
    "id(c)"
   ]
  },
  {
   "cell_type": "markdown",
   "id": "1baeb12c",
   "metadata": {},
   "source": [
    "### Call by Object Reference"
   ]
  },
  {
   "cell_type": "code",
   "execution_count": 54,
   "id": "260349f3",
   "metadata": {
    "scrolled": true
   },
   "outputs": [
    {
     "name": "stdout",
     "output_type": "stream",
     "text": [
      "140028663969984 140028663969984\n",
      "140028663969984 140028663969984\n",
      "[0, 1] [0, 1]\n",
      "140028663969984 140028663903552\n",
      "[0, 1] [2, 3]\n",
      "140028663969984 140028663903552\n",
      "[0, 1] [2, 3, 2]\n",
      "[0, 1]\n"
     ]
    }
   ],
   "source": [
    "def spam(eggs):\n",
    "    print(id(ham),id(eggs))\n",
    "    eggs.append(1) # 기존 객체의 주소값에 [1] 추가\n",
    "    print(id(ham),id(eggs))\n",
    "    print(ham,eggs)\n",
    "    eggs = [2, 3] # 새로운 객체 생성\n",
    "    print(id(ham),id(eggs))\n",
    "    print(ham,eggs)\n",
    "    eggs.append(2)\n",
    "    print(id(ham),id(eggs))\n",
    "    print(ham,eggs)\n",
    "ham = [0]\n",
    "spam(ham)\n",
    "print(ham) # [0, 1]"
   ]
  },
  {
   "cell_type": "markdown",
   "id": "292ff32a",
   "metadata": {},
   "source": [
    "위에서 보듯 함수 밖에서 생선된 전역변수(인스턴스)를 함수 내부에서 사용되는 지역변수(객체)에 입력하면 객체는 입력받은 전역변수의 주소로 연결돼서 코드입력에 따라서 전역변수의 값을 갱신하며 계속 그 값을 바라보고 있는다.\n",
    "\n",
    "그런데 내부에서 객체에게 새로운 값을 입력하면 기존의 주소를 끊고 새로운 값의 메모리주소에 연결된다."
   ]
  },
  {
   "cell_type": "markdown",
   "id": "64c0df2e",
   "metadata": {},
   "source": [
    "### function - scoping rule"
   ]
  },
  {
   "cell_type": "markdown",
   "id": "7141b697",
   "metadata": {},
   "source": [
    "알고있는 전역변수(global variable), 지역변수(local variable) 이야기"
   ]
  },
  {
   "cell_type": "code",
   "execution_count": 56,
   "id": "1727dbae",
   "metadata": {},
   "outputs": [
    {
     "name": "stdout",
     "output_type": "stream",
     "text": [
      "I love London!\n",
      "I love London!\n"
     ]
    }
   ],
   "source": [
    "def f():\n",
    "    global s\n",
    "    s = \"I love London!\"\n",
    "    print(s)\n",
    "s = \"I love Paris!\"\n",
    "f()\n",
    "print(s)"
   ]
  },
  {
   "cell_type": "markdown",
   "id": "4937424d",
   "metadata": {},
   "source": [
    "함수 내부에서 global을 이용해서 전역변수를 불러오는건 몰랐음"
   ]
  },
  {
   "cell_type": "markdown",
   "id": "16b829e6",
   "metadata": {},
   "source": [
    "### Recursive Function"
   ]
  },
  {
   "cell_type": "markdown",
   "id": "0deed1b2",
   "metadata": {},
   "source": [
    "내용은 이해했고 백준이나 프로그래머스에서도 풀어본 문제인데 막혀서 멈춘 문제도 재귀함수문제이다..\n",
    "연습이 필요한 내용"
   ]
  },
  {
   "cell_type": "markdown",
   "id": "93453d77",
   "metadata": {},
   "source": [
    "### function type hints"
   ]
  },
  {
   "cell_type": "markdown",
   "id": "81451db0",
   "metadata": {},
   "source": [
    "def do_function(var_name: var_type) -> return_type:\n",
    "    pass\n",
    "\n",
    "변수에 타입을 정하는건 알고 있었는데 리턴값도 타입을 정하는 방법은 몰랐음"
   ]
  },
  {
   "cell_type": "markdown",
   "id": "8b6dc395",
   "metadata": {},
   "source": [
    "### docstring"
   ]
  },
  {
   "cell_type": "markdown",
   "id": "45694751",
   "metadata": {},
   "source": [
    "\"\"\"\n",
    "함수에 대해서 설명 할 때 함수 내부에 이런식으로 설명을 작성하는 방법\n",
    "\"\"\""
   ]
  },
  {
   "cell_type": "markdown",
   "id": "ccb6469a",
   "metadata": {},
   "source": [
    "vscode 익스텐션에서 docstring 제너레이터를 설치하면 양식을 제공해줌"
   ]
  },
  {
   "cell_type": "markdown",
   "id": "d32f11c5",
   "metadata": {},
   "source": [
    "### PEP8"
   ]
  },
  {
   "cell_type": "markdown",
   "id": "a7b07f6c",
   "metadata": {},
   "source": [
    "가독성을 위해서 코드를 작성하는 규칙"
   ]
  },
  {
   "cell_type": "markdown",
   "id": "bb1d63c8",
   "metadata": {},
   "source": [
    "flake8을 설치하고 실행하면 규칙에 맞는지 검토  \n",
    "pip install flake8\n",
    "\n",
    "black을 설치하고 실행하면 PEP8에 맞게 코드 수정\n",
    "pip install black"
   ]
  },
  {
   "cell_type": "markdown",
   "id": "59720d02",
   "metadata": {},
   "source": [
    "---"
   ]
  },
  {
   "cell_type": "markdown",
   "id": "67da164c",
   "metadata": {},
   "source": [
    "# Python data structure"
   ]
  },
  {
   "cell_type": "markdown",
   "id": "e3b4cd82",
   "metadata": {},
   "source": [
    "### stack  \n",
    "\n",
    "last in first out(FILO)\n",
    "\n",
    "append와 pop 메소드로 구현 가능"
   ]
  },
  {
   "cell_type": "code",
   "execution_count": 59,
   "id": "21c9625d",
   "metadata": {},
   "outputs": [
    {
     "name": "stdout",
     "output_type": "stream",
     "text": [
      "[1, 2, 3]\n",
      "3\n",
      "[1, 2]\n"
     ]
    }
   ],
   "source": [
    "a = [1,2]\n",
    "a.append(3)\n",
    "print(a)\n",
    "print(a.pop())\n",
    "print(a)"
   ]
  },
  {
   "cell_type": "markdown",
   "id": "5bc441b0",
   "metadata": {},
   "source": [
    "### queue  \n",
    "\n",
    "first in first out(FIFO)\n",
    "\n",
    "append와 pop 메소드로 구현 가능  "
   ]
  },
  {
   "cell_type": "code",
   "execution_count": 60,
   "id": "55446a89",
   "metadata": {},
   "outputs": [
    {
     "name": "stdout",
     "output_type": "stream",
     "text": [
      "[1, 2, 3]\n",
      "1\n",
      "[2, 3]\n"
     ]
    }
   ],
   "source": [
    "b = [1,2]\n",
    "b.append(3)\n",
    "print(b)\n",
    "print(b.pop(0))\n",
    "print(b)"
   ]
  },
  {
   "cell_type": "markdown",
   "id": "8734c42c",
   "metadata": {},
   "source": [
    "### tuple  \n",
    "\n",
    "리스트와 비슷하지만 값의 추가, 삭제, 변경이 안된다."
   ]
  },
  {
   "cell_type": "markdown",
   "id": "8d8a142a",
   "metadata": {},
   "source": [
    "### set\n",
    "\n",
    "수학에서 집합과 같다. list에서 유니크한 값으로 구성되고 집합연산이 가능하다."
   ]
  },
  {
   "cell_type": "code",
   "execution_count": 68,
   "id": "1db72a28",
   "metadata": {},
   "outputs": [
    {
     "name": "stdout",
     "output_type": "stream",
     "text": [
      "{1, 2, 3, 4} {2, 4, 6, 7}\n",
      "합집합 : {1, 2, 3, 4, 6, 7}\n",
      "교집합 : {2, 4}\n",
      "차집합 : {1, 3}\n",
      "여집합 : {1, 3, 6, 7}\n"
     ]
    }
   ],
   "source": [
    "a = set([1,1,2,2,3,3,4,4])\n",
    "b = set([2,2,4,4,6,6,7,7])\n",
    "print(a,b)\n",
    "print(f\"합집합 : {a|b}\")\n",
    "print(f\"교집합 : {a&b}\")\n",
    "print(f\"차집합 : {a-b}\")\n",
    "print(f\"여집합 : {a^b}\")"
   ]
  },
  {
   "cell_type": "markdown",
   "id": "a7815c23",
   "metadata": {},
   "source": [
    "### dict  \n",
    "\n",
    "immutable한 key와 mutable한 value로 맵핑되어 있는 순서없는 집합.  \n",
    "\n",
    "https://wikidocs.net/16043  "
   ]
  },
  {
   "cell_type": "code",
   "execution_count": 112,
   "id": "2c0cfd92",
   "metadata": {},
   "outputs": [
    {
     "data": {
      "text/plain": [
       "{(1, 2): 'a', (2, 3): 'b'}"
      ]
     },
     "execution_count": 112,
     "metadata": {},
     "output_type": "execute_result"
    }
   ],
   "source": [
    "a = {(1,2):'a',(2,3):'b'}\n",
    "a"
   ]
  },
  {
   "cell_type": "code",
   "execution_count": 117,
   "id": "c3e69ff3",
   "metadata": {},
   "outputs": [
    {
     "data": {
      "text/plain": [
       "{(1, 2): 'a', (2, 3): 'b', 'c': [3, 4]}"
      ]
     },
     "execution_count": 117,
     "metadata": {},
     "output_type": "execute_result"
    }
   ],
   "source": [
    "a['c'] =[3,4]\n",
    "a"
   ]
  },
  {
   "cell_type": "code",
   "execution_count": 118,
   "id": "4409cc5e",
   "metadata": {},
   "outputs": [
    {
     "data": {
      "text/plain": [
       "{(1, 2): 'a', (2, 3): 'b'}"
      ]
     },
     "execution_count": 118,
     "metadata": {},
     "output_type": "execute_result"
    }
   ],
   "source": [
    "del a['c']\n",
    "a"
   ]
  },
  {
   "cell_type": "code",
   "execution_count": 119,
   "id": "4a938dc8",
   "metadata": {},
   "outputs": [
    {
     "name": "stdout",
     "output_type": "stream",
     "text": [
      "(1, 2) a\n",
      "(2, 3) b\n"
     ]
    }
   ],
   "source": [
    "for i,j in a.items():\n",
    "    print(i,j)"
   ]
  },
  {
   "cell_type": "code",
   "execution_count": 120,
   "id": "0fc87057",
   "metadata": {},
   "outputs": [
    {
     "name": "stdout",
     "output_type": "stream",
     "text": [
      "(1, 2)\n",
      "(2, 3)\n"
     ]
    }
   ],
   "source": [
    "for i in a.keys():\n",
    "    print(i)"
   ]
  },
  {
   "cell_type": "code",
   "execution_count": 121,
   "id": "09a8285e",
   "metadata": {
    "scrolled": true
   },
   "outputs": [
    {
     "name": "stdout",
     "output_type": "stream",
     "text": [
      "a\n",
      "b\n"
     ]
    }
   ],
   "source": [
    "for i in a.values():\n",
    "    print(i)"
   ]
  },
  {
   "cell_type": "markdown",
   "id": "2993b42c",
   "metadata": {},
   "source": [
    "### collections  \n"
   ]
  },
  {
   "cell_type": "markdown",
   "id": "982215f6",
   "metadata": {},
   "source": [
    "#### deque\n",
    "\n",
    "stack과 queue 연산 모두 가능  \n",
    "\n",
    "deque의 자료 구조가 Linked list(연결 리스트)로 돼있어서  \n",
    "삽입, 삭제는 dinamic list보다 빠르지만 search는 느리다.  "
   ]
  },
  {
   "cell_type": "code",
   "execution_count": 81,
   "id": "429f343b",
   "metadata": {},
   "outputs": [
    {
     "name": "stdout",
     "output_type": "stream",
     "text": [
      "1.36 s ± 35.1 ms per loop (mean ± std. dev. of 7 runs, 1 loop each)\n"
     ]
    }
   ],
   "source": [
    "from collections import deque\n",
    "\n",
    "def deque_list():\n",
    "    deque_list = deque()\n",
    "    for i in range(5000):\n",
    "        for i in range(5000):\n",
    "            deque_list.append(i)\n",
    "            deque_list.pop()\n",
    "\n",
    "%timeit deque_list()"
   ]
  },
  {
   "cell_type": "code",
   "execution_count": 82,
   "id": "73250076",
   "metadata": {
    "scrolled": true
   },
   "outputs": [
    {
     "name": "stdout",
     "output_type": "stream",
     "text": [
      "2.25 s ± 23.6 ms per loop (mean ± std. dev. of 7 runs, 1 loop each)\n"
     ]
    }
   ],
   "source": [
    "def general_list():\n",
    "    just_list = []\n",
    "    for i in range(5000):\n",
    "        for i in range(5000):\n",
    "            just_list.append(i)\n",
    "            just_list.pop()\n",
    "\n",
    "%timeit general_list()"
   ]
  },
  {
   "cell_type": "markdown",
   "id": "12edf4c9",
   "metadata": {},
   "source": [
    "삽입, 삭제는 deque가 더 빠른걸 확인 할 수 있다."
   ]
  },
  {
   "cell_type": "code",
   "execution_count": 96,
   "id": "42ae259e",
   "metadata": {},
   "outputs": [
    {
     "name": "stdout",
     "output_type": "stream",
     "text": [
      "22.6 ms ± 287 µs per loop (mean ± std. dev. of 7 runs, 10 loops each)\n"
     ]
    }
   ],
   "source": [
    "from collections import deque\n",
    "\n",
    "def deque_list():\n",
    "    deque_list = deque(range(1000001))\n",
    "    return deque_list[1000000]\n",
    "    \n",
    "%timeit deque_list()"
   ]
  },
  {
   "cell_type": "code",
   "execution_count": 97,
   "id": "279077d9",
   "metadata": {},
   "outputs": [
    {
     "name": "stdout",
     "output_type": "stream",
     "text": [
      "200 ns ± 1.05 ns per loop (mean ± std. dev. of 7 runs, 1,000,000 loops each)\n"
     ]
    }
   ],
   "source": [
    "def general_list():\n",
    "    general_list = range(1000001)\n",
    "    return general_list[1000000]\n",
    "    \n",
    "%timeit general_list()"
   ]
  },
  {
   "cell_type": "markdown",
   "id": "d938c0b9",
   "metadata": {},
   "source": [
    "조회는 다이나믹 리스트가 더 빠른걸 확인 할 수 있다.  \n",
    "\n",
    "다이나믹 리스트는 빅오가 조회는 O(1), 삽입,삭제는 O(n)이고  \n",
    "연결 리스트는 빅오가 조회는 O(n), 삽입,삭제는 O(1)이기 때문이다.\n",
    "\n",
    "---"
   ]
  },
  {
   "cell_type": "markdown",
   "id": "3ec24220",
   "metadata": {},
   "source": [
    "#### OrderedDict  "
   ]
  },
  {
   "cell_type": "markdown",
   "id": "46b1254d",
   "metadata": {},
   "source": [
    "#### defaultdict  "
   ]
  },
  {
   "cell_type": "markdown",
   "id": "90ae2d74",
   "metadata": {},
   "source": [
    "#### Counter  "
   ]
  },
  {
   "cell_type": "markdown",
   "id": "7b330ec7",
   "metadata": {},
   "source": [
    "#### namedtuple  "
   ]
  },
  {
   "cell_type": "markdown",
   "id": "fc2b6d22",
   "metadata": {},
   "source": [
    "# Pythonic code"
   ]
  },
  {
   "cell_type": "code",
   "execution_count": 123,
   "id": "dd55aa31",
   "metadata": {
    "scrolled": true
   },
   "outputs": [
    {
     "data": {
      "text/plain": [
       "'red blue green yellow'"
      ]
     },
     "execution_count": 123,
     "metadata": {},
     "output_type": "execute_result"
    }
   ],
   "source": [
    "colors = ['red','blue','green','yellow']\n",
    "result = ' '.join(colors)\n",
    "result"
   ]
  },
  {
   "cell_type": "markdown",
   "id": "22e3e3ca",
   "metadata": {},
   "source": [
    "#### split & join"
   ]
  },
  {
   "cell_type": "code",
   "execution_count": 146,
   "id": "eda833bb",
   "metadata": {},
   "outputs": [
    {
     "name": "stdout",
     "output_type": "stream",
     "text": [
      "['red', 'blue', 'green', 'yellow']\n"
     ]
    }
   ],
   "source": [
    "import pprint\n",
    "pp =  pprint.PrettyPrinter()\n",
    "items = result.split()\n",
    "pp.pprint(items)\n",
    "#pprint가 작동을 안하는데?"
   ]
  },
  {
   "cell_type": "code",
   "execution_count": 136,
   "id": "29e7a6c1",
   "metadata": {},
   "outputs": [
    {
     "data": {
      "text/plain": [
       "'red/blue/green/yellow'"
      ]
     },
     "execution_count": 136,
     "metadata": {},
     "output_type": "execute_result"
    }
   ],
   "source": [
    "'/'.join(items)"
   ]
  },
  {
   "cell_type": "markdown",
   "id": "5eeda6e0",
   "metadata": {},
   "source": [
    "#### List Comprehension  "
   ]
  },
  {
   "cell_type": "code",
   "execution_count": 140,
   "id": "bfce9d69",
   "metadata": {},
   "outputs": [
    {
     "data": {
      "text/plain": [
       "[0, 2, 4, 6, 8]"
      ]
     },
     "execution_count": 140,
     "metadata": {},
     "output_type": "execute_result"
    }
   ],
   "source": [
    "[i for i in range(10) if i % 2 == 0]"
   ]
  },
  {
   "cell_type": "code",
   "execution_count": 148,
   "id": "3d39e23c",
   "metadata": {},
   "outputs": [],
   "source": [
    "case_1 = ['A','B','C']\n",
    "case_2 = ['C','E','A']"
   ]
  },
  {
   "cell_type": "code",
   "execution_count": 154,
   "id": "f2ac31c5",
   "metadata": {},
   "outputs": [
    {
     "data": {
      "text/plain": [
       "['AC', 'AE', 'AA', 'BC', 'BE', 'BA']"
      ]
     },
     "execution_count": 154,
     "metadata": {},
     "output_type": "execute_result"
    }
   ],
   "source": [
    "[i+j for i in case_1 for j in case_2 if i != \"C\"]"
   ]
  },
  {
   "cell_type": "code",
   "execution_count": 152,
   "id": "351c9438",
   "metadata": {},
   "outputs": [
    {
     "data": {
      "text/plain": [
       "[['AC', 'BC'], ['AE', 'BE'], ['AA', 'BA']]"
      ]
     },
     "execution_count": 152,
     "metadata": {},
     "output_type": "execute_result"
    }
   ],
   "source": [
    "[[i+j for i in case_1 if i != \"C\"] for j in case_2]"
   ]
  },
  {
   "cell_type": "markdown",
   "id": "d6b2fd88",
   "metadata": {},
   "source": [
    "#### enumerate & zip  "
   ]
  },
  {
   "cell_type": "code",
   "execution_count": 157,
   "id": "3572d310",
   "metadata": {},
   "outputs": [
    {
     "name": "stdout",
     "output_type": "stream",
     "text": [
      "0 \t A\n",
      "1 \t B\n",
      "2 \t C\n"
     ]
    }
   ],
   "source": [
    "for i,v in enumerate(\"ABC\"):\n",
    "    print(\"{} \\t {}\".format(i,v))"
   ]
  },
  {
   "cell_type": "code",
   "execution_count": 158,
   "id": "2c35140d",
   "metadata": {},
   "outputs": [
    {
     "name": "stdout",
     "output_type": "stream",
     "text": [
      "A \t 1\n",
      "B \t 2\n",
      "C \t 3\n"
     ]
    }
   ],
   "source": [
    "for i,j in zip(\"ABC\",'123'):\n",
    "    print(\"{} \\t {}\".format(i,j))"
   ]
  },
  {
   "cell_type": "code",
   "execution_count": 161,
   "id": "debd1ec7",
   "metadata": {},
   "outputs": [
    {
     "data": {
      "text/plain": [
       "[('A', '1'), ('B', '2'), ('C', '3')]"
      ]
     },
     "execution_count": 161,
     "metadata": {},
     "output_type": "execute_result"
    }
   ],
   "source": [
    "# tuple로 묶임\n",
    "[z for z in zip(\"ABC\",'123')]\n",
    "    "
   ]
  },
  {
   "cell_type": "code",
   "execution_count": 164,
   "id": "67481165",
   "metadata": {},
   "outputs": [
    {
     "data": {
      "text/plain": [
       "[('A', '1'), ('B', '2'), ('C', '3')]"
      ]
     },
     "execution_count": 164,
     "metadata": {},
     "output_type": "execute_result"
    }
   ],
   "source": [
    "# zip 함수가 tuple로 묶는거\n",
    "list(zip(\"ABC\",'123'))"
   ]
  },
  {
   "cell_type": "code",
   "execution_count": 166,
   "id": "a93649b8",
   "metadata": {
    "scrolled": true
   },
   "outputs": [
    {
     "data": {
      "text/plain": [
       "[(0, 'A'), (1, 'B'), (2, 'C')]"
      ]
     },
     "execution_count": 166,
     "metadata": {},
     "output_type": "execute_result"
    }
   ],
   "source": [
    "# enumerate도 마찬가지\n",
    "list(enumerate('ABC'))"
   ]
  },
  {
   "cell_type": "code",
   "execution_count": 167,
   "id": "2e49c468",
   "metadata": {},
   "outputs": [
    {
     "data": {
      "text/plain": [
       "[(0, ('a', '1')), (1, ('b', '2')), (2, ('c', '3'))]"
      ]
     },
     "execution_count": 167,
     "metadata": {},
     "output_type": "execute_result"
    }
   ],
   "source": [
    "[z for z in enumerate(zip('abc','123'))]"
   ]
  },
  {
   "cell_type": "markdown",
   "id": "3f37a095",
   "metadata": {},
   "source": [
    "#### lambda & map & reduce  "
   ]
  },
  {
   "cell_type": "markdown",
   "id": "48dd70f0",
   "metadata": {},
   "source": [
    "PEP8에서는 lambda의 사용을 권장하지 않음 하지만 많이 쓰임"
   ]
  },
  {
   "cell_type": "markdown",
   "id": "592adae1",
   "metadata": {},
   "source": [
    "map도 list comprehension을 쓰면 더 간단하게 작성가능해서 권장하지 않는데 많이 쓰임\n"
   ]
  },
  {
   "cell_type": "markdown",
   "id": "93895350",
   "metadata": {},
   "source": [
    "reduce도 많이 안쓰이긴 하는데  \n",
    "\n",
    "대용량 데이터를 다룰 때 많이 쓰임  \n",
    "\n",
    "역시 python3에서 권장하지 않음  \n",
    "\n",
    "머신러닝 코드에서 여전히 사용중"
   ]
  },
  {
   "cell_type": "markdown",
   "id": "5d5820d9",
   "metadata": {},
   "source": [
    "#### iterable object"
   ]
  },
  {
   "cell_type": "markdown",
   "id": "ff565cb8",
   "metadata": {},
   "source": [
    "python에서 list형식으로 저장하면 내부원소를 출력 할 때 list주소와 내부원소의 주소를 각각 찾아야 함\n",
    "즉, 두 단계를 거쳐서야 함\n",
    "iterable object는 원소에 다음 원소의 주소만 가지고 있어서 list주소를 따로 저장할 필요가 없음\n",
    "\n",
    "dinamic array와 linked list의 차이"
   ]
  },
  {
   "cell_type": "code",
   "execution_count": 209,
   "id": "dee25424",
   "metadata": {},
   "outputs": [
    {
     "name": "stdout",
     "output_type": "stream",
     "text": [
      "[1, 2, 3, 4, 5]\n",
      "<class 'list'>\n",
      "<list_iterator object at 0x7f5af679ff10>\n",
      "<class 'list_iterator'>\n"
     ]
    }
   ],
   "source": [
    "a = [1,2,3,4,5]\n",
    "print(a)\n",
    "print(type(a))\n",
    "b = iter(a)\n",
    "print(b)\n",
    "print(type(b))"
   ]
  },
  {
   "cell_type": "code",
   "execution_count": 210,
   "id": "fd4dda28",
   "metadata": {},
   "outputs": [
    {
     "data": {
      "text/plain": [
       "1"
      ]
     },
     "execution_count": 210,
     "metadata": {},
     "output_type": "execute_result"
    }
   ],
   "source": [
    "next(b)"
   ]
  },
  {
   "cell_type": "markdown",
   "id": "303b9c3e",
   "metadata": {},
   "source": [
    "#### generator  \n",
    "\n",
    "제너레이터는 iterable object에서 값까지 주소만 가지고 있는 경우인데 메모리의 효율이 더 좋아진다."
   ]
  },
  {
   "cell_type": "code",
   "execution_count": 217,
   "id": "55025566",
   "metadata": {},
   "outputs": [],
   "source": [
    "def general_list(value):\n",
    "    result = []\n",
    "    for i in range(value):\n",
    "        result.append(i)\n",
    "    return result"
   ]
  },
  {
   "cell_type": "code",
   "execution_count": 218,
   "id": "07d14d62",
   "metadata": {},
   "outputs": [
    {
     "name": "stdout",
     "output_type": "stream",
     "text": [
      "[0, 1, 2, 3, 4, 5, 6, 7, 8, 9, 10, 11, 12, 13, 14, 15, 16, 17, 18, 19, 20, 21, 22, 23, 24, 25, 26, 27, 28, 29, 30, 31, 32, 33, 34, 35, 36, 37, 38, 39, 40, 41, 42, 43, 44, 45, 46, 47, 48, 49]\n"
     ]
    }
   ],
   "source": [
    "print(general_list(50))"
   ]
  },
  {
   "cell_type": "code",
   "execution_count": 177,
   "id": "27c4034b",
   "metadata": {},
   "outputs": [
    {
     "data": {
      "text/plain": [
       "520"
      ]
     },
     "execution_count": 177,
     "metadata": {},
     "output_type": "execute_result"
    }
   ],
   "source": [
    "import sys\n",
    "\n",
    "sys.getsizeof(general_list(50))"
   ]
  },
  {
   "cell_type": "code",
   "execution_count": 211,
   "id": "eb88644e",
   "metadata": {},
   "outputs": [],
   "source": [
    "def generator_list(value):\n",
    "    result = []\n",
    "    for i in range(value):\n",
    "        yield i"
   ]
  },
  {
   "cell_type": "code",
   "execution_count": 216,
   "id": "07c8291e",
   "metadata": {},
   "outputs": [
    {
     "name": "stdout",
     "output_type": "stream",
     "text": [
      "<generator object generator_list at 0x7f5af6832660>\n"
     ]
    }
   ],
   "source": [
    "print(generator_list(50))"
   ]
  },
  {
   "cell_type": "code",
   "execution_count": 182,
   "id": "aedfeadf",
   "metadata": {},
   "outputs": [
    {
     "data": {
      "text/plain": [
       "112"
      ]
     },
     "execution_count": 182,
     "metadata": {},
     "output_type": "execute_result"
    }
   ],
   "source": [
    "import sys\n",
    "\n",
    "sys.getsizeof(generator_list(50))"
   ]
  },
  {
   "cell_type": "markdown",
   "id": "4539cbe4",
   "metadata": {},
   "source": [
    "파일 크기 차이를 확인 할 수 있다.  \n",
    "\n",
    "generator를 사용해서 메모리를 절약하는 걸 권장한다.  \n",
    "\n",
    "---"
   ]
  },
  {
   "cell_type": "code",
   "execution_count": 185,
   "id": "27a99fea",
   "metadata": {},
   "outputs": [
    {
     "data": {
      "text/plain": [
       "[0, 1, 4, 9, 16, 25, 36, 49, 64, 81]"
      ]
     },
     "execution_count": 185,
     "metadata": {},
     "output_type": "execute_result"
    }
   ],
   "source": [
    "[i*i for i in generator_list(10)]"
   ]
  },
  {
   "cell_type": "markdown",
   "id": "188c8f42",
   "metadata": {},
   "source": [
    "#### keyward arguments"
   ]
  },
  {
   "cell_type": "markdown",
   "id": "64cd1c41",
   "metadata": {},
   "source": [
    "#### default arguments"
   ]
  },
  {
   "cell_type": "markdown",
   "id": "db5f4aa3",
   "metadata": {},
   "source": [
    "#### variable-length asterisk(*args)"
   ]
  },
  {
   "cell_type": "markdown",
   "id": "3bf5a9a0",
   "metadata": {},
   "source": [
    "#### keyward-length(**kwargs)"
   ]
  },
  {
   "cell_type": "code",
   "execution_count": 245,
   "id": "bf419b76",
   "metadata": {},
   "outputs": [
    {
     "name": "stdout",
     "output_type": "stream",
     "text": [
      "ok\n"
     ]
    }
   ],
   "source": [
    "def test(a=1,b=2,*args,**kwargs):\n",
    "    print('ok')\n",
    "    pass\n",
    "\n",
    "test(4,5,6,7,A=10,B=20)"
   ]
  },
  {
   "cell_type": "markdown",
   "id": "c68b746d",
   "metadata": {},
   "source": [
    "위의 함수안의 파라미터와 같이 default arguments, var args, kwargs 순서를 지켜야 한다.\n",
    "default argments와 var args를 같이 사용 할 수는 있지만 파라미터에 변수를 연결하면 오류가 난다."
   ]
  },
  {
   "cell_type": "code",
   "execution_count": 244,
   "id": "8e544dfe",
   "metadata": {},
   "outputs": [
    {
     "ename": "SyntaxError",
     "evalue": "positional argument follows keyword argument (2227066245.py, line 5)",
     "output_type": "error",
     "traceback": [
      "\u001b[0;36m  Input \u001b[0;32mIn [244]\u001b[0;36m\u001b[0m\n\u001b[0;31m    test(a=4,5,6,7,A=10,B=20) # 이렇게 오류가 난다.\u001b[0m\n\u001b[0m             ^\u001b[0m\n\u001b[0;31mSyntaxError\u001b[0m\u001b[0;31m:\u001b[0m positional argument follows keyword argument\n"
     ]
    }
   ],
   "source": [
    "def test(a=1,b=2,*args,**kwargs):\n",
    "    print('ok')\n",
    "    pass\n",
    "\n",
    "test(a=4,5,6,7,A=10,B=20) # 이렇게 오류가 난다."
   ]
  },
  {
   "cell_type": "markdown",
   "id": "e069af73",
   "metadata": {},
   "source": [
    "#### asterisk  \n",
    "#### unpacking a container  \n",
    "\n"
   ]
  },
  {
   "cell_type": "code",
   "execution_count": 258,
   "id": "a9511186",
   "metadata": {},
   "outputs": [
    {
     "name": "stdout",
     "output_type": "stream",
     "text": [
      "1 2 3 4 5 6\n",
      "<class 'tuple'>\n"
     ]
    }
   ],
   "source": [
    "def asterisk_test(a,*args):\n",
    "    print(a,*args)\n",
    "    print(type(args))\n",
    "    \n",
    "test = (2,3,4,5,6)\n",
    "asterisk_test(1,*test)"
   ]
  },
  {
   "cell_type": "code",
   "execution_count": 255,
   "id": "ffd92b66",
   "metadata": {},
   "outputs": [
    {
     "name": "stdout",
     "output_type": "stream",
     "text": [
      "1 2 3 4\n"
     ]
    }
   ],
   "source": [
    "print(*['1','2','3','4'])"
   ]
  },
  {
   "cell_type": "code",
   "execution_count": 266,
   "id": "daab41b6",
   "metadata": {
    "scrolled": true
   },
   "outputs": [
    {
     "name": "stdout",
     "output_type": "stream",
     "text": [
      "(1, 2, 4, 6)\n",
      "(2, 3, 5, 7)\n"
     ]
    }
   ],
   "source": [
    "test_list = ([1,2],[2,3],[4,5],[6,7])\n",
    "\n",
    "for i in zip(*test_list):\n",
    "    print(i)"
   ]
  },
  {
   "cell_type": "markdown",
   "id": "a6741493",
   "metadata": {},
   "source": [
    "**데이터 핸들링 할 때 필요하던 방법인데 이제 알게 됐다.**"
   ]
  },
  {
   "cell_type": "code",
   "execution_count": null,
   "id": "fc81f9f2",
   "metadata": {},
   "outputs": [],
   "source": []
  },
  {
   "cell_type": "code",
   "execution_count": null,
   "id": "439fb414",
   "metadata": {},
   "outputs": [],
   "source": []
  },
  {
   "cell_type": "code",
   "execution_count": null,
   "id": "f123445e",
   "metadata": {},
   "outputs": [],
   "source": []
  }
 ],
 "metadata": {
  "kernelspec": {
   "display_name": "Python 3 (ipykernel)",
   "language": "python",
   "name": "python3"
  },
  "language_info": {
   "codemirror_mode": {
    "name": "ipython",
    "version": 3
   },
   "file_extension": ".py",
   "mimetype": "text/x-python",
   "name": "python",
   "nbconvert_exporter": "python",
   "pygments_lexer": "ipython3",
   "version": "3.8.10"
  }
 },
 "nbformat": 4,
 "nbformat_minor": 5
}

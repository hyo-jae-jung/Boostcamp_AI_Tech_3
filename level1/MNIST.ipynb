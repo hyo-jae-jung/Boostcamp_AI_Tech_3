{
 "cells": [
  {
   "cell_type": "markdown",
   "id": "079925d7",
   "metadata": {},
   "source": [
    "출처  \n",
    "https://hihack.tistory.com/entry/Pytorch-jupyter-notebook%EC%9C%BC%EB%A1%9C-MNIST-%EB%8D%B0%EC%9D%B4%ED%84%B0-%EC%85%8B-%ED%95%99%EC%8A%B5%EC%A0%95%ED%99%95%EB%8F%84-loss-%EC%B8%A1%EC%A0%95"
   ]
  },
  {
   "cell_type": "code",
   "execution_count": 1,
   "id": "6ba2dc70",
   "metadata": {},
   "outputs": [],
   "source": [
    "import torch.nn as nn \n",
    "import torch \n",
    "from torchvision import datasets \n",
    "from torchvision import transforms \n",
    "from torch.utils.data import DataLoader \n",
    "import numpy as np \n",
    "import torch.optim as optim \n",
    "import matplotlib.pyplot as plt"
   ]
  },
  {
   "cell_type": "code",
   "execution_count": 2,
   "id": "43dde4d9",
   "metadata": {},
   "outputs": [],
   "source": [
    "class Net(nn.Module):\n",
    "    def __init__(self):\n",
    "        super(Net, self).__init__() \n",
    "        self.fc1 = nn.Linear(784,100) \n",
    "        self.relu = nn.ReLU() \n",
    "        self.fc2 = nn.Linear(100,100) \n",
    "        self.fc3 = nn.Linear(100,10) \n",
    "    def forward(self, x): \n",
    "        x1 = self.fc1(x) \n",
    "        x2 = self.relu(x1) \n",
    "        x3 = self.fc2(x2) \n",
    "        x4 = self.relu(x3) \n",
    "        x5 = self.fc3(x4) \n",
    "        return x5"
   ]
  },
  {
   "cell_type": "code",
   "execution_count": 3,
   "id": "bbe66e38",
   "metadata": {
    "scrolled": true
   },
   "outputs": [
    {
     "name": "stdout",
     "output_type": "stream",
     "text": [
      "Downloading http://yann.lecun.com/exdb/mnist/train-images-idx3-ubyte.gz\n",
      "Downloading http://yann.lecun.com/exdb/mnist/train-images-idx3-ubyte.gz to MNIST_data/MNIST/raw/train-images-idx3-ubyte.gz\n"
     ]
    },
    {
     "data": {
      "application/vnd.jupyter.widget-view+json": {
       "model_id": "29c182f2ca2d4ea9a3135a079acaff82",
       "version_major": 2,
       "version_minor": 0
      },
      "text/plain": [
       "  0%|          | 0/9912422 [00:00<?, ?it/s]"
      ]
     },
     "metadata": {},
     "output_type": "display_data"
    },
    {
     "name": "stdout",
     "output_type": "stream",
     "text": [
      "Extracting MNIST_data/MNIST/raw/train-images-idx3-ubyte.gz to MNIST_data/MNIST/raw\n",
      "\n",
      "Downloading http://yann.lecun.com/exdb/mnist/train-labels-idx1-ubyte.gz\n",
      "Downloading http://yann.lecun.com/exdb/mnist/train-labels-idx1-ubyte.gz to MNIST_data/MNIST/raw/train-labels-idx1-ubyte.gz\n"
     ]
    },
    {
     "data": {
      "application/vnd.jupyter.widget-view+json": {
       "model_id": "5b3fb0c537714249bebaa42f676e8ed4",
       "version_major": 2,
       "version_minor": 0
      },
      "text/plain": [
       "  0%|          | 0/28881 [00:00<?, ?it/s]"
      ]
     },
     "metadata": {},
     "output_type": "display_data"
    },
    {
     "name": "stdout",
     "output_type": "stream",
     "text": [
      "Extracting MNIST_data/MNIST/raw/train-labels-idx1-ubyte.gz to MNIST_data/MNIST/raw\n",
      "\n",
      "Downloading http://yann.lecun.com/exdb/mnist/t10k-images-idx3-ubyte.gz\n",
      "Downloading http://yann.lecun.com/exdb/mnist/t10k-images-idx3-ubyte.gz to MNIST_data/MNIST/raw/t10k-images-idx3-ubyte.gz\n"
     ]
    },
    {
     "data": {
      "application/vnd.jupyter.widget-view+json": {
       "model_id": "1575e7758f8244e28cda5b9fe461ba6e",
       "version_major": 2,
       "version_minor": 0
      },
      "text/plain": [
       "  0%|          | 0/1648877 [00:00<?, ?it/s]"
      ]
     },
     "metadata": {},
     "output_type": "display_data"
    },
    {
     "name": "stdout",
     "output_type": "stream",
     "text": [
      "Extracting MNIST_data/MNIST/raw/t10k-images-idx3-ubyte.gz to MNIST_data/MNIST/raw\n",
      "\n",
      "Downloading http://yann.lecun.com/exdb/mnist/t10k-labels-idx1-ubyte.gz\n",
      "Downloading http://yann.lecun.com/exdb/mnist/t10k-labels-idx1-ubyte.gz to MNIST_data/MNIST/raw/t10k-labels-idx1-ubyte.gz\n"
     ]
    },
    {
     "data": {
      "application/vnd.jupyter.widget-view+json": {
       "model_id": "b2d2d0f4c4624d33a4006beaf25a81e6",
       "version_major": 2,
       "version_minor": 0
      },
      "text/plain": [
       "  0%|          | 0/4542 [00:00<?, ?it/s]"
      ]
     },
     "metadata": {},
     "output_type": "display_data"
    },
    {
     "name": "stdout",
     "output_type": "stream",
     "text": [
      "Extracting MNIST_data/MNIST/raw/t10k-labels-idx1-ubyte.gz to MNIST_data/MNIST/raw\n",
      "\n"
     ]
    }
   ],
   "source": [
    "download_root = 'MNIST_data/' \n",
    "dataset1 = datasets.MNIST(root=download_root,\n",
    "                          train=True,\n",
    "                          transform = transforms.ToTensor(),\n",
    "                          download=True\n",
    "                         )\n",
    "dataset2 = datasets.MNIST(root=download_root,\n",
    "                          train=False,\n",
    "                          transform=transforms.ToTensor(),\n",
    "                          download=True\n",
    "                         )"
   ]
  },
  {
   "cell_type": "code",
   "execution_count": 4,
   "id": "0d326349",
   "metadata": {},
   "outputs": [],
   "source": [
    "batch_s = 100\n",
    "dataset1_loader = DataLoader(dataset1, batch_size=batch_s, shuffle=True)\n",
    "dataset2_loader = DataLoader(dataset2, batch_size=batch_s, shuffle=True)"
   ]
  },
  {
   "cell_type": "code",
   "execution_count": 5,
   "id": "5304e20d",
   "metadata": {},
   "outputs": [],
   "source": [
    "model = Net() \n",
    "model.zero_grad() \n",
    "loss_function = nn.CrossEntropyLoss() \n",
    "optimizer = optim.SGD(model.parameters(), lr=0.01)"
   ]
  },
  {
   "cell_type": "code",
   "execution_count": 6,
   "id": "a5f7e941",
   "metadata": {
    "scrolled": true
   },
   "outputs": [
    {
     "name": "stdout",
     "output_type": "stream",
     "text": [
      "[ 1  2  3  4  5  6  7  8  9 10]\n",
      "600\n"
     ]
    }
   ],
   "source": [
    "total_batch = len(dataset1_loader)\n",
    "epochs = np.arange(1,11)\n",
    "print(epochs)\n",
    "print(len(dataset1_loader)) #60000개의 data를 batch_size를 100으로 했기 때문에 600이 나오는 것."
   ]
  },
  {
   "cell_type": "code",
   "execution_count": 8,
   "id": "2f9e90e6",
   "metadata": {
    "scrolled": true
   },
   "outputs": [
    {
     "name": "stdout",
     "output_type": "stream",
     "text": [
      "epoch : 1 | loss : 2.107857\n",
      "Accuracy : 67.28\n",
      "------\n",
      "epoch : 2 | loss : 0.977983\n",
      "Accuracy : 84.50\n",
      "------\n",
      "epoch : 3 | loss : 0.527121\n",
      "Accuracy : 87.78\n",
      "------\n",
      "epoch : 4 | loss : 0.425704\n",
      "Accuracy : 89.11\n",
      "------\n",
      "epoch : 5 | loss : 0.378315\n",
      "Accuracy : 89.89\n",
      "------\n",
      "epoch : 6 | loss : 0.348762\n",
      "Accuracy : 90.76\n",
      "------\n",
      "epoch : 7 | loss : 0.327211\n",
      "Accuracy : 91.15\n",
      "------\n",
      "epoch : 8 | loss : 0.309582\n",
      "Accuracy : 91.60\n",
      "------\n",
      "epoch : 9 | loss : 0.295230\n",
      "Accuracy : 91.93\n",
      "------\n",
      "epoch : 10 | loss : 0.282345\n",
      "Accuracy : 92.39\n",
      "------\n"
     ]
    }
   ],
   "source": [
    "loss_list = []\n",
    "accuracy_list = []\n",
    "for epoch in epochs:\n",
    "    cost=0\n",
    "    for images, labels in dataset1_loader:\n",
    "        images = images.reshape(100,784)\n",
    "        optimizer.zero_grad() # 변화도 매개변수 0 \n",
    "        #forward\n",
    "        pred = model.forward(images)\n",
    "        loss = loss_function(pred, labels)\n",
    "        #backward\n",
    "        loss.backward()\n",
    "        #Update\n",
    "        optimizer.step()\n",
    "        cost += loss\n",
    "    with torch.no_grad(): #미분하지 않겠다는 것\n",
    "        total = 0\n",
    "        correct=0\n",
    "        for images, labels in dataset2_loader: \n",
    "            images = images.reshape(100,784)\n",
    "            outputs = model(images)\n",
    "            _,predict = torch.max(outputs.data, 1)\n",
    "            total += labels.size(0)\n",
    "            correct += (predict==labels).sum() # 예측한 값과 일치한 값의 합\n",
    "    avg_cost = cost / total_batch \n",
    "    accuracy = 100*correct/total \n",
    "    loss_list.append(avg_cost.detach().numpy()) \n",
    "    accuracy_list.append(accuracy) \n",
    "    print(\"epoch : {} | loss : {:.6f}\" .format(epoch, avg_cost)) \n",
    "    print(\"Accuracy : {:.2f}\".format(100*correct/total)) \n",
    "    print(\"------\")"
   ]
  },
  {
   "cell_type": "code",
   "execution_count": 11,
   "id": "b6715141",
   "metadata": {},
   "outputs": [
    {
     "data": {
      "image/png": "[encoded data removed]",
      "text/plain": [
       "<Figure size 720x360 with 2 Axes>"
      ]
     },
     "metadata": {
      "needs_background": "light"
     },
     "output_type": "display_data"
    }
   ],
   "source": [
    "plt.figure(figsize=(10,5))\n",
    "plt.subplot(1,2,1)\n",
    "plt.xlabel('Epoch') \n",
    "plt.ylabel('Loss')\n",
    "plt.plot(epochs,loss_list)\n",
    "plt.subplot(1,2,2)\n",
    "plt.xlabel('Epoch')\n",
    "plt.ylabel('Accuracy')\n",
    "plt.plot(epochs, accuracy_list)\n",
    "plt.show()"
   ]
  }
 ],
 "metadata": {
  "kernelspec": {
   "display_name": "Python 3 (ipykernel)",
   "language": "python",
   "name": "python3"
  },
  "language_info": {
   "codemirror_mode": {
    "name": "ipython",
    "version": 3
   },
   "file_extension": ".py",
   "mimetype": "text/x-python",
   "name": "python",
   "nbconvert_exporter": "python",
   "pygments_lexer": "ipython3",
   "version": "3.8.10"
  }
 },
 "nbformat": 4,
 "nbformat_minor": 5
}

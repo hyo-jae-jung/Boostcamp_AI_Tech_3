{
 "cells": [
  {
   "cell_type": "markdown",
   "id": "59587a37",
   "metadata": {},
   "source": [
    "# Deep Learning Basic"
   ]
  },
  {
   "cell_type": "markdown",
   "id": "15ab7dd4",
   "metadata": {},
   "source": [
    "## 1"
   ]
  },
  {
   "cell_type": "markdown",
   "id": "c649e3f5",
   "metadata": {},
   "source": [
    "### 딥러닝을 잘한다는 의미\n",
    "1. 구현실력(Pytorch)\n",
    "2. 수학스킬(선형대수, 확률론)\n",
    "3. 다양한 연구논문에 대한 이해"
   ]
  },
  {
   "cell_type": "markdown",
   "id": "01442257",
   "metadata": {},
   "source": [
    "### key components of deep learning\n",
    "1. The **data** that the model can learn from\n",
    "2. The **model** how to transform the data\n",
    "3. The **loss** function that quantifies the badness of the model\n",
    "4. The **algorithm** to adjust the parameters to minimize the loss"
   ]
  },
  {
   "cell_type": "markdown",
   "id": "d29f463a",
   "metadata": {},
   "source": [
    "### Data\n",
    "\n",
    "##### Data depend on the type of the problem to solve.\n",
    "\n",
    "1. Classification\n",
    "2. Semantic Segmentation\n",
    "3. Detection\n",
    "4. Pose Estimation\n",
    "5. Visual QnA"
   ]
  },
  {
   "cell_type": "markdown",
   "id": "531bfdcc",
   "metadata": {},
   "source": [
    "### Model\n",
    "\n",
    "AlexNet \n",
    "GoogLeNet  \n",
    "ResNet  \n",
    "DenseNet  \n",
    "LSTM  \n",
    "Deep Auto Encoders  \n",
    "GAN"
   ]
  },
  {
   "cell_type": "markdown",
   "id": "bbb32134",
   "metadata": {},
   "source": [
    "### Loss\n",
    "\n",
    "##### The loss function is a proxy of what we want to achieve.\n",
    "\n",
    "Regression Task -> MSE   \n",
    "Classification Task -> CE(cross entropy)  \n",
    "Probabilistic Task -> MLE  "
   ]
  },
  {
   "cell_type": "markdown",
   "id": "1ffbe6e3",
   "metadata": {},
   "source": [
    "### Optimization Algorithm\n",
    "\n",
    "SGD  \n",
    "Momentum  \n",
    "NAG  \n",
    "Adagrad  \n",
    "Adadelta  \n",
    "Rmsprop\n",
    "\n",
    "Dropout  \n",
    "Early stopping  \n",
    "k-fold validation  \n",
    "Weight  \n",
    "decay  \n",
    "Batch normalization  \n",
    "MixUp  \n",
    "Ensemble  \n",
    "Bayesian Optimization  "
   ]
  },
  {
   "cell_type": "markdown",
   "id": "ec3ba253",
   "metadata": {},
   "source": [
    "### Historical Review\n",
    "\n",
    "Deep Learning's Nost Important Ldeas - A Brief  \n",
    "Historical Review  \n",
    "(Denny Britz)  \n",
    "2020-07-29"
   ]
  },
  {
   "cell_type": "markdown",
   "id": "5491106a",
   "metadata": {},
   "source": [
    "### 2012 - AlexNet\n",
    "\n",
    "알고리즘 : CNN  \n",
    "목적 : 224x224 이미지 분류\n",
    "\n",
    "딥러닝으로 1등한 첫번째 분류방법  \n",
    "\n",
    "알렉스넷 이후 딥러닝이 아닌 분류방법이 1등한적이 없음 패러다임 시프트\n",
    "\n"
   ]
  },
  {
   "cell_type": "markdown",
   "id": "03fc4e9f",
   "metadata": {},
   "source": [
    "### 2013 - DQN\n",
    "\n",
    "알파고 알고리즘"
   ]
  },
  {
   "cell_type": "markdown",
   "id": "25b98bb8",
   "metadata": {},
   "source": [
    "### 2014 -  Encoder / Decoder\n",
    "\n",
    "번역"
   ]
  },
  {
   "cell_type": "markdown",
   "id": "54509ee3",
   "metadata": {},
   "source": [
    "### 2014 - Adam Optimizer\n",
    "\n",
    "결과가 잘나옴  \n",
    "왠만하면 잘된다"
   ]
  },
  {
   "cell_type": "markdown",
   "id": "549a9142",
   "metadata": {},
   "source": [
    "### 2015 - Generative Adversarial Network(GAN)\n",
    "\n",
    "2번에 걸쳐서 자세히 이야기 할 예정"
   ]
  },
  {
   "cell_type": "markdown",
   "id": "7e23709e",
   "metadata": {},
   "source": [
    "### 2015 - Residual Networks\n",
    "\n",
    "더 깊게 쌓을 수 있게 도와준 방법"
   ]
  },
  {
   "cell_type": "markdown",
   "id": "4b2ad866",
   "metadata": {},
   "source": [
    "### 2017 - Transformer\n",
    "\n",
    "Attention Is All You Need\n",
    "\n",
    "자세히 다룰 예정"
   ]
  },
  {
   "cell_type": "markdown",
   "id": "f7ca8647",
   "metadata": {},
   "source": [
    "### 2018 - BERT(fine-tuned NLP models)\n",
    "\n",
    "Bidirectional Encoder Representations from Transformers"
   ]
  },
  {
   "cell_type": "markdown",
   "id": "f5295323",
   "metadata": {},
   "source": [
    "### 2019 - BIG Language Model\n",
    "\n",
    "GPT3, an autoregressive language model with 175 billion parameters"
   ]
  },
  {
   "cell_type": "markdown",
   "id": "03d9429c",
   "metadata": {},
   "source": [
    "### 2020 - Self Supervised Learning\n",
    "\n",
    "SimCLR : a simple framework for contrastive learning of visual representations"
   ]
  },
  {
   "cell_type": "markdown",
   "id": "99af6625",
   "metadata": {},
   "source": [
    "---"
   ]
  },
  {
   "cell_type": "markdown",
   "id": "3768ce82",
   "metadata": {},
   "source": [
    "## 2"
   ]
  },
  {
   "cell_type": "markdown",
   "id": "b5650f6a",
   "metadata": {},
   "source": [
    "### loss function"
   ]
  }
 ],
 "metadata": {
  "kernelspec": {
   "display_name": "Python 3 (ipykernel)",
   "language": "python",
   "name": "python3"
  },
  "language_info": {
   "codemirror_mode": {
    "name": "ipython",
    "version": 3
   },
   "file_extension": ".py",
   "mimetype": "text/x-python",
   "name": "python",
   "nbconvert_exporter": "python",
   "pygments_lexer": "ipython3",
   "version": "3.8.10"
  }
 },
 "nbformat": 4,
 "nbformat_minor": 5
}

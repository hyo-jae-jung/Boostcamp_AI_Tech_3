{
 "cells": [
  {
   "cell_type": "markdown",
   "id": "c5730b2b",
   "metadata": {},
   "source": [
    "## Important Concepts in Optimization  \n",
    "\n",
    " - Generalization\n",
    " - Under-fitting vs. over-fitting\n",
    " - Cross validation\n",
    " - Bias-variance tradeoff\n",
    " - Bootstrapping\n",
    " - Bagging and boosting"
   ]
  },
  {
   "cell_type": "markdown",
   "id": "19b93395",
   "metadata": {},
   "source": [
    "#### Generalization\n",
    "\n",
    "학습이 얼마나 잘 됐는지 나타내는 기준\n",
    "Training error와 Test error의 차이가 작으면 일반화가 잘 됐다는 의미"
   ]
  },
  {
   "cell_type": "markdown",
   "id": "52cc32e8",
   "metadata": {},
   "source": [
    "#### Cross validation(k-fold validation)\n",
    "\n",
    "학습데이터만을 가지고 학습데이터와 Validation data로 나눠서 하이퍼 파라미터를 찾고  \n",
    "찾은 하이퍼 파라미터로 고정을 시켜서 전체 데이터로 학습을 시킨다.\n",
    "**※test data는 어떤 경우에도 학습에 사용하면 안된다.**"
   ]
  },
  {
   "cell_type": "markdown",
   "id": "5fc8945c",
   "metadata": {},
   "source": [
    "#### Bias and Variance Tradeoff\n",
    "\n",
    "cost = (bias)^2 + variance + noise\n",
    "\n",
    "우리가 최소화 시키려는 cost는 bias, variance, noise로 분리 되는데  \n",
    "bias와 variance의 관계가 비선형적인 관계여서 둘 다 같이 줄이는 것은 불가능하다."
   ]
  },
  {
   "cell_type": "markdown",
   "id": "b74d5d62",
   "metadata": {},
   "source": [
    "#### Bootstrapping(신발끈)\n",
    "\n",
    "테스트 데이터를 여러번의 샘플링으로 모델을 여러개 만들어서 모델들이 예측한 값의 일치정도를 보고 전체 데이터로 만들어진 모델의 불일치를 예측하려는 방법"
   ]
  },
  {
   "cell_type": "markdown",
   "id": "8815e142",
   "metadata": {},
   "source": [
    "#### Bagging vs. Boosting\n",
    "\n"
   ]
  },
  {
   "cell_type": "markdown",
   "id": "f57570d0",
   "metadata": {},
   "source": [
    "#### Gradient Descent Methods\n",
    "\n",
    "- Stochastic gradient descent\n",
    "- Mini-batch gradient descent\n",
    "- Batch gradient descent"
   ]
  },
  {
   "cell_type": "markdown",
   "id": "34b28658",
   "metadata": {},
   "source": [
    "#### Batch-size Metters\n",
    "배치사이즈가 크면 Sharp Minimum에 도달할 가능성이 높고,  \n",
    "배치사이즈가 작으면 Flat Minimum에 도달할 가능성이 높은데  \n",
    "Flat minimizers가 Sharp Minimizers보다 general하기 때문에 더 좋다."
   ]
  },
  {
   "cell_type": "markdown",
   "id": "6ef8eb5a",
   "metadata": {},
   "source": [
    "- Stochastic gradient descent\n",
    "- Momentum\n",
    "- Nesterov accelerated gradient\n",
    "- Adagrad\n",
    "- Adadelta\n",
    "- RMSprop\n",
    "- Adam\n",
    "\n",
    "결국 optimizer를 선택해야 하는데 optimizer들의 성격을 이해 할 필요가 있다."
   ]
  },
  {
   "cell_type": "markdown",
   "id": "6dc27a88",
   "metadata": {},
   "source": [
    "#### Momentum\n",
    "\n",
    "loss 값을 최소화 하는 방향에 관성을 더해서 방향이 바뀌기 전까지는 속도를 더해준다."
   ]
  },
  {
   "cell_type": "markdown",
   "id": "090236a7",
   "metadata": {},
   "source": [
    "#### Nesterov Accelerated Gradient(NAG)\n",
    "\n",
    "momentum의 문제를 개선한 방법인데  \n",
    "다음번에 이동 할 위치에서의 gradient를 계산한 값을 연산에 추가해서  \n",
    "감속과 방향전환을 더 잘 하게 만드는 방법  "
   ]
  },
  {
   "cell_type": "markdown",
   "id": "cd276204",
   "metadata": {},
   "source": [
    "#### Adagrad\n",
    "\n",
    "파라미터의 변화정도에 따라서 다음 변화량을 조절   \n",
    "많이 변한 파라미터는 다음번엔 적게 변화시키고  \n",
    "적게 변한 파라미터는 다음번엔 많이 변화시킨다.  \n",
    "문제는 시간이 지날수록 결국에는 변화율이 작아져서  \n",
    "학습이 잘 안됨."
   ]
  },
  {
   "cell_type": "markdown",
   "id": "e3e278cb",
   "metadata": {},
   "source": [
    "#### Adadelta\n",
    "\n",
    "adagrad의 문제를 해결하는게 adadelta  \n",
    "계속 작아지는 변화율을 상쇄시키는 변수를 분자에 추가\n",
    "\n",
    "단점은 사람이 조절하는 값(learning rate)가 없어서 조절을 할 여지가 없다.  \n",
    "많이 안씀  "
   ]
  },
  {
   "cell_type": "markdown",
   "id": "80cafd32",
   "metadata": {},
   "source": [
    "#### RMSprop\n",
    "\n",
    "해보니 잘 됨"
   ]
  },
  {
   "cell_type": "markdown",
   "id": "0727baba",
   "metadata": {},
   "source": [
    "#### Adam(Adaptive Moment Estimation)\n",
    "\n",
    "Adaptive + Moment"
   ]
  },
  {
   "cell_type": "markdown",
   "id": "be35e0d8",
   "metadata": {},
   "source": [
    "### Regularization\n",
    "\n",
    "- Early stopping\n",
    "- Parameter norm penalty\n",
    "- Data augmentation\n",
    "- Noise robustness\n",
    "- Label smoothing\n",
    "- Dropout\n",
    "- Batch normalization"
   ]
  },
  {
   "cell_type": "markdown",
   "id": "eae5c2ff",
   "metadata": {},
   "source": [
    "#### Early Stopping\n",
    "\n",
    "테스트 데이터로 학습 에러를 줄여나갈 때 closs validation으로 테스트 에러와의 차이가 커지기 전에 멈추는 방법"
   ]
  },
  {
   "cell_type": "markdown",
   "id": "240f7d16",
   "metadata": {},
   "source": [
    "#### Parameter Norm Penalty\n",
    "\n",
    "파라미터의 크기를 줄이자는 컨셉  \n",
    "\n",
    "부드러운 함수일수록 generalization이 좋을거다 라는 가정에서 출발"
   ]
  },
  {
   "cell_type": "markdown",
   "id": "604fa300",
   "metadata": {},
   "source": [
    "#### Data Augmentation\n",
    "\n",
    "데이터가 많은게 중요하기 때문에 가지고 있는 데이터를 가지고 augment해서 데이터를 늘리는 방법"
   ]
  },
  {
   "cell_type": "markdown",
   "id": "99b86b56",
   "metadata": {},
   "source": [
    "#### Noise Robustness\n",
    "\n",
    "노이즈를 중간중간에 넣으면 학습이 더 잘된다는 방법"
   ]
  },
  {
   "cell_type": "markdown",
   "id": "d4715139",
   "metadata": {},
   "source": [
    "#### Label Smoothing\n",
    "\n",
    "MixUp, CutMix"
   ]
  },
  {
   "cell_type": "markdown",
   "id": "485eaa82",
   "metadata": {},
   "source": [
    "#### Dropout\n",
    "\n",
    "forwardpropagation에서 랜덤으로 노드를 끄는 방법"
   ]
  },
  {
   "cell_type": "markdown",
   "id": "79cb244e",
   "metadata": {},
   "source": [
    "#### Batch Normalization\n",
    "\n",
    "https://www.youtube.com/watch?v=m61OSJfxL0U"
   ]
  },
  {
   "cell_type": "code",
   "execution_count": null,
   "id": "482a51f8",
   "metadata": {},
   "outputs": [],
   "source": []
  },
  {
   "cell_type": "code",
   "execution_count": null,
   "id": "acf34552",
   "metadata": {},
   "outputs": [],
   "source": []
  },
  {
   "cell_type": "code",
   "execution_count": null,
   "id": "65f65487",
   "metadata": {},
   "outputs": [],
   "source": []
  },
  {
   "cell_type": "code",
   "execution_count": null,
   "id": "9b1aa73d",
   "metadata": {},
   "outputs": [],
   "source": []
  },
  {
   "cell_type": "code",
   "execution_count": null,
   "id": "2d599664",
   "metadata": {},
   "outputs": [],
   "source": []
  },
  {
   "cell_type": "code",
   "execution_count": null,
   "id": "863144a7",
   "metadata": {},
   "outputs": [],
   "source": []
  },
  {
   "cell_type": "code",
   "execution_count": null,
   "id": "fd7bb518",
   "metadata": {},
   "outputs": [],
   "source": []
  },
  {
   "cell_type": "code",
   "execution_count": null,
   "id": "032e91e6",
   "metadata": {},
   "outputs": [],
   "source": []
  },
  {
   "cell_type": "code",
   "execution_count": null,
   "id": "89e5f3a2",
   "metadata": {},
   "outputs": [],
   "source": []
  }
 ],
 "metadata": {
  "kernelspec": {
   "display_name": "Python 3 (ipykernel)",
   "language": "python",
   "name": "python3"
  },
  "language_info": {
   "codemirror_mode": {
    "name": "ipython",
    "version": 3
   },
   "file_extension": ".py",
   "mimetype": "text/x-python",
   "name": "python",
   "nbconvert_exporter": "python",
   "pygments_lexer": "ipython3",
   "version": "3.8.10"
  }
 },
 "nbformat": 4,
 "nbformat_minor": 5
}
